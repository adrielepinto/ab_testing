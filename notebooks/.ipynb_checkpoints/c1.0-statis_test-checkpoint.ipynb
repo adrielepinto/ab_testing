{
 "cells": [
  {
   "cell_type": "markdown",
   "id": "02842a37",
   "metadata": {},
   "source": [
    "# 0.1 Imports"
   ]
  },
  {
   "cell_type": "code",
   "execution_count": 43,
   "id": "bc434458",
   "metadata": {
    "ExecuteTime": {
     "end_time": "2022-08-22T21:27:14.922487Z",
     "start_time": "2022-08-22T21:27:14.631392Z"
    }
   },
   "outputs": [],
   "source": [
    "import math\n",
    "import pandas as pd\n",
    "import numpy  as np\n",
    "\n",
    "\n",
    "from statsmodels.stats import api as sms"
   ]
  },
  {
   "cell_type": "markdown",
   "id": "ec89b75c",
   "metadata": {},
   "source": [
    "# 0.2 Helper Functions\n"
   ]
  },
  {
   "cell_type": "code",
   "execution_count": 44,
   "id": "f7ffccfc",
   "metadata": {
    "ExecuteTime": {
     "end_time": "2022-08-22T21:27:16.462887Z",
     "start_time": "2022-08-22T21:27:16.455416Z"
    }
   },
   "outputs": [],
   "source": [
    "def jupyter_settings(): \n",
    "    %matplotlib inline \n",
    "    #%matplotlib notebook\n",
    "    %pylab inline\n",
    "    \n",
    "    plt.style.use('bmh')\n",
    "    plt.rcParams['figure.figsize'] = [25, 12]\n",
    "    plt.rcParams['font.size'] = 24\n",
    "    \n",
    "     \n",
    "    display( HTML( '<style>.container { width:100% !important; }</style>') )\n",
    "    pd.options.display.max_columns = None\n",
    "    pd.options.display.max_rows = None\n",
    "    pd.set_option ('display.expand_frame_repr', False)\n",
    "    \n",
    "    sns.set()\n"
   ]
  },
  {
   "cell_type": "markdown",
   "id": "28c95ac7",
   "metadata": {
    "ExecuteTime": {
     "end_time": "2022-08-19T16:06:14.996969Z",
     "start_time": "2022-08-19T16:06:14.994084Z"
    }
   },
   "source": [
    "# 1.0 Data Description"
   ]
  },
  {
   "cell_type": "code",
   "execution_count": 83,
   "id": "54445576",
   "metadata": {
    "ExecuteTime": {
     "end_time": "2022-08-22T22:25:27.302667Z",
     "start_time": "2022-08-22T22:25:26.992151Z"
    }
   },
   "outputs": [
    {
     "data": {
      "text/html": [
       "<div>\n",
       "<style scoped>\n",
       "    .dataframe tbody tr th:only-of-type {\n",
       "        vertical-align: middle;\n",
       "    }\n",
       "\n",
       "    .dataframe tbody tr th {\n",
       "        vertical-align: top;\n",
       "    }\n",
       "\n",
       "    .dataframe thead th {\n",
       "        text-align: right;\n",
       "    }\n",
       "</style>\n",
       "<table border=\"1\" class=\"dataframe\">\n",
       "  <thead>\n",
       "    <tr style=\"text-align: right;\">\n",
       "      <th></th>\n",
       "      <th>user_id</th>\n",
       "      <th>timestamp</th>\n",
       "      <th>group</th>\n",
       "      <th>landing_page</th>\n",
       "      <th>converted</th>\n",
       "    </tr>\n",
       "  </thead>\n",
       "  <tbody>\n",
       "    <tr>\n",
       "      <th>0</th>\n",
       "      <td>851104</td>\n",
       "      <td>2017-01-21 22:11:48.556739</td>\n",
       "      <td>control</td>\n",
       "      <td>old_page</td>\n",
       "      <td>0</td>\n",
       "    </tr>\n",
       "    <tr>\n",
       "      <th>1</th>\n",
       "      <td>804228</td>\n",
       "      <td>2017-01-12 08:01:45.159739</td>\n",
       "      <td>control</td>\n",
       "      <td>old_page</td>\n",
       "      <td>0</td>\n",
       "    </tr>\n",
       "    <tr>\n",
       "      <th>2</th>\n",
       "      <td>661590</td>\n",
       "      <td>2017-01-11 16:55:06.154213</td>\n",
       "      <td>treatment</td>\n",
       "      <td>new_page</td>\n",
       "      <td>0</td>\n",
       "    </tr>\n",
       "    <tr>\n",
       "      <th>3</th>\n",
       "      <td>853541</td>\n",
       "      <td>2017-01-08 18:28:03.143765</td>\n",
       "      <td>treatment</td>\n",
       "      <td>new_page</td>\n",
       "      <td>0</td>\n",
       "    </tr>\n",
       "    <tr>\n",
       "      <th>4</th>\n",
       "      <td>864975</td>\n",
       "      <td>2017-01-21 01:52:26.210827</td>\n",
       "      <td>control</td>\n",
       "      <td>old_page</td>\n",
       "      <td>1</td>\n",
       "    </tr>\n",
       "  </tbody>\n",
       "</table>\n",
       "</div>"
      ],
      "text/plain": [
       "   user_id                   timestamp      group landing_page  converted\n",
       "0   851104  2017-01-21 22:11:48.556739    control     old_page          0\n",
       "1   804228  2017-01-12 08:01:45.159739    control     old_page          0\n",
       "2   661590  2017-01-11 16:55:06.154213  treatment     new_page          0\n",
       "3   853541  2017-01-08 18:28:03.143765  treatment     new_page          0\n",
       "4   864975  2017-01-21 01:52:26.210827    control     old_page          1"
      ]
     },
     "execution_count": 83,
     "metadata": {},
     "output_type": "execute_result"
    }
   ],
   "source": [
    "df_raw = pd.read_csv('/Users/adriele/Documents/repos/ab_testing/dataset/ab_data.csv')\n",
    "df_raw.head()"
   ]
  },
  {
   "cell_type": "code",
   "execution_count": null,
   "id": "ac1ebad7",
   "metadata": {
    "ExecuteTime": {
     "end_time": "2022-08-22T02:31:55.349532Z",
     "start_time": "2022-08-22T02:31:55.047727Z"
    }
   },
   "outputs": [],
   "source": []
  },
  {
   "cell_type": "code",
   "execution_count": 84,
   "id": "5f19e237",
   "metadata": {
    "ExecuteTime": {
     "end_time": "2022-08-22T22:25:27.570529Z",
     "start_time": "2022-08-22T22:25:27.449421Z"
    }
   },
   "outputs": [
    {
     "data": {
      "text/plain": [
       "user_id         0\n",
       "timestamp       0\n",
       "group           0\n",
       "landing_page    0\n",
       "converted       0\n",
       "dtype: int64"
      ]
     },
     "execution_count": 84,
     "metadata": {},
     "output_type": "execute_result"
    }
   ],
   "source": [
    "df_raw.isna().sum()"
   ]
  },
  {
   "cell_type": "code",
   "execution_count": 85,
   "id": "e95168eb",
   "metadata": {
    "ExecuteTime": {
     "end_time": "2022-08-22T22:25:27.636117Z",
     "start_time": "2022-08-22T22:25:27.632771Z"
    }
   },
   "outputs": [],
   "source": [
    "# # Flags test A\n",
    "\n",
    "# df_user_delete = df_raw[['user_id', 'group', 'landing_page']].groupby( ['group',\n",
    "#                                                                      'landing_page'] ).count().reset_index()\n",
    "# # data without duplicates\n",
    "# df1 = df_raw[~df_raw['user_id'].isin( df_user_delete )]"
   ]
  },
  {
   "cell_type": "markdown",
   "id": "92d5bc15",
   "metadata": {},
   "source": [
    "# 2.0 Experiment Design"
   ]
  },
  {
   "cell_type": "markdown",
   "id": "d5e1235e",
   "metadata": {},
   "source": [
    "## 2.1 Hypothesis formulation"
   ]
  },
  {
   "cell_type": "markdown",
   "id": "38677c34",
   "metadata": {},
   "source": [
    "## 2.2 Experiment Paramiter"
   ]
  },
  {
   "cell_type": "code",
   "execution_count": 86,
   "id": "b725415b",
   "metadata": {
    "ExecuteTime": {
     "end_time": "2022-08-22T22:25:29.026918Z",
     "start_time": "2022-08-22T22:25:29.023540Z"
    }
   },
   "outputs": [],
   "source": [
    "# A/B Test - paramiter\n",
    "# A/B test - Permutacao\n",
    "# Z-Test ( )\n"
   ]
  },
  {
   "cell_type": "code",
   "execution_count": 87,
   "id": "3b8ca6cc",
   "metadata": {
    "ExecuteTime": {
     "end_time": "2022-08-22T22:25:29.710161Z",
     "start_time": "2022-08-22T22:25:29.693081Z"
    }
   },
   "outputs": [
    {
     "data": {
      "text/plain": [
       "4720"
      ]
     },
     "execution_count": 87,
     "metadata": {},
     "output_type": "execute_result"
    }
   ],
   "source": [
    "# confidence level\n",
    "confidence_level = 0.95\n",
    "\n",
    "# Significance Level\n",
    "significance_level = 0.05\n",
    "\n",
    "# Convertions new and old page\n",
    "p1 = 0.13\n",
    "p2 = 0.15\n",
    "\n",
    "# effect size\n",
    "effect_size = sms.proportion_effectsize( p1, p2)\n",
    "\n",
    "# Statisc Power\n",
    "power = 0.80\n",
    "\n",
    "# Sample size\n",
    "sample_n = sms.NormalIndPower().solve_power(\n",
    "                effect_size,\n",
    "                power=power,\n",
    "                alpha=significance_level\n",
    ")\n",
    "\n",
    "sample_n = math.ceil( sample_n )\n",
    "sample_n"
   ]
  },
  {
   "cell_type": "code",
   "execution_count": 95,
   "id": "9c965040",
   "metadata": {
    "ExecuteTime": {
     "end_time": "2022-08-22T22:49:02.444695Z",
     "start_time": "2022-08-22T22:49:02.211400Z"
    }
   },
   "outputs": [
    {
     "name": "stdout",
     "output_type": "stream",
     "text": [
      "Size of Treatment Group: 4720\n",
      "Size of Control Group: 4720\n",
      "Coversin rate - Control Group: 0.13241525423728814\n",
      "Coversin rate - Control Group: 0.11970338983050847\n"
     ]
    }
   ],
   "source": [
    "# Data preparation\n",
    "df_aux = df_raw[['user_id', 'group']].groupby( 'user_id' ).count().reset_index().query( 'group > 1')\n",
    "df3 = df_raw[ ~df_raw[ 'user_id'].isin( df_aux['user_id'] ) ]\n",
    "\n",
    "#df3[['user_id', 'group']].groupby( 'user_id' ).count().reset_index().query( 'group > 1')\n",
    "\n",
    "# sampling\n",
    "df_treatment_sample = df3[df3['group'] == 'treatment'].sample( n=sample_n, random_state=32 )\n",
    "print ( 'Size of Treatment Group: {}'.format( df_treatment_sample.shape[0] ) )\n",
    "\n",
    "df_controlt_sample = df3[df3['group'] == 'control'].sample( n=sample_n, random_state=32 )\n",
    "print ( 'Size of Control Group: {}'.format( df_control_sample.shape[0] ) )\n",
    "\n",
    "df_ab = pd.concat([df_controlt_sample, df_treatment_sample ]  )\n",
    "\n",
    "# conversion rate\n",
    "converted = df_control_sample.loc[df_control_sample['converted'] == 1, 'converted'].sum()\n",
    "conversion_rate_control = converted / len( df_control_sample['converted'] )\n",
    "print ( 'Coversin rate - Control Group: {}'.format( conversion_rate_control) )\n",
    "\n",
    "treatment_converted = df_treatment_sample.loc[df_treatment_sample['converted'] == 1, 'converted'].sum()\n",
    "conversion_rate_control = treatment_converted / len( df_treatment_sample['converted'] )\n",
    "print ( 'Coversin rate - Control Group: {}'.format( conversion_rate_control) )\n",
    "\n",
    "\n",
    "# hypothesi test\n",
    "df_table = df_ab[['group', 'converted']].groupby( 'group' ).agg( {'converted': ['sum', 'count']})\n",
    "\n",
    "# Conclusion\n",
    "\n",
    "# Result coversion $"
   ]
  },
  {
   "cell_type": "code",
   "execution_count": null,
   "id": "b1154439",
   "metadata": {},
   "outputs": [],
   "source": []
  },
  {
   "cell_type": "code",
   "execution_count": 82,
   "id": "25622461",
   "metadata": {
    "ExecuteTime": {
     "end_time": "2022-08-22T22:24:36.410188Z",
     "start_time": "2022-08-22T22:24:36.342953Z"
    }
   },
   "outputs": [
    {
     "name": "stdout",
     "output_type": "stream",
     "text": [
      "Size of Control Group: 4720\n",
      "Size of Treatment Group: 4720\n"
     ]
    }
   ],
   "source": [
    "## 2.2 amostragem aleatoria\n",
    "df_control_sample = df1[df1['group'] == 'control'].sample( n=sample_n, random_state=42 )\n",
    "print ( 'Size of Control Group: {}'.format( df_control_sample.shape[0] ) )\n",
    "\n",
    "# Treatment Group\n",
    "df_treatment_sample = df1[df1['group'] == 'treatment'].sample( n=sample_n, random_state=42 )\n",
    "print ( 'Size of Treatment Group: {}'.format( df_treatment_sample.shape[0] ) )\n",
    "\n",
    "# Total Sample\n",
    "df_ab = pd.concat([ df_control_sample, df_treatment_sample] ).reset_index( drop=True )"
   ]
  },
  {
   "cell_type": "code",
   "execution_count": 74,
   "id": "e2d731f2",
   "metadata": {
    "ExecuteTime": {
     "end_time": "2022-08-22T21:58:45.531303Z",
     "start_time": "2022-08-22T21:58:45.511819Z"
    }
   },
   "outputs": [
    {
     "ename": "ValueError",
     "evalue": "Invalid format specifier",
     "output_type": "error",
     "traceback": [
      "\u001b[0;31m---------------------------------------------------------------------------\u001b[0m",
      "\u001b[0;31mValueError\u001b[0m                                Traceback (most recent call last)",
      "Input \u001b[0;32mIn [74]\u001b[0m, in \u001b[0;36m<cell line: 7>\u001b[0;34m()\u001b[0m\n\u001b[1;32m      4\u001b[0m visit \u001b[38;5;241m=\u001b[39m \u001b[38;5;28mlen\u001b[39m( df_control_sample )\n\u001b[1;32m      6\u001b[0m conversion_rate_control \u001b[38;5;241m=\u001b[39m sale \u001b[38;5;241m/\u001b[39m visit\n\u001b[0;32m----> 7\u001b[0m \u001b[38;5;28mprint\u001b[39m ( \u001b[38;5;124;43m'\u001b[39;49m\u001b[38;5;124;43mConvertion Rate - Control Group: \u001b[39;49m\u001b[38;5;124;43m{\u001b[39;49m\u001b[38;5;124;43m:,4f}\u001b[39;49m\u001b[38;5;124;43m'\u001b[39;49m\u001b[38;5;241;43m.\u001b[39;49m\u001b[43mformat\u001b[49m\u001b[43m(\u001b[49m\u001b[43m \u001b[49m\u001b[43mconversion_rate_control\u001b[49m\u001b[43m \u001b[49m\u001b[43m)\u001b[49m)\n\u001b[1;32m      9\u001b[0m \u001b[38;5;66;03m# ======================== Group Control =========================\u001b[39;00m\n\u001b[1;32m     10\u001b[0m sale \u001b[38;5;241m=\u001b[39m df_control_sample\u001b[38;5;241m.\u001b[39mloc[df_control_sample[\u001b[38;5;124m'\u001b[39m\u001b[38;5;124mconverted\u001b[39m\u001b[38;5;124m'\u001b[39m] \u001b[38;5;241m==\u001b[39m \u001b[38;5;241m1\u001b[39m, \u001b[38;5;124m'\u001b[39m\u001b[38;5;124mconverted\u001b[39m\u001b[38;5;124m'\u001b[39m]\u001b[38;5;241m.\u001b[39msum()\n",
      "\u001b[0;31mValueError\u001b[0m: Invalid format specifier"
     ]
    }
   ],
   "source": [
    "# metrics between groups\n",
    "# ======================== Group Control =========================\n",
    "sale = df_control_sample.loc[df_control_sample['converted'] == 1, 'converted'].sum()\n",
    "visit = len( df_control_sample )\n",
    "\n",
    "conversion_rate_control = sale / visit\n",
    "print ( 'Convertion Rate - Control Group: {:,4f}'.format( conversion_rate_control ))\n",
    "\n",
    "# ======================== Group Control =========================\n",
    "sale = df_control_sample.loc[df_control_sample['converted'] == 1, 'converted'].sum()\n",
    "visit = len( df_control_sample )\n",
    "\n",
    "conversion_rate_control = sale / visit\n",
    "print ( 'Convertion Rate - Treatment Group: {:,4f}'.format( conversion_rate_control ))\n",
    "\n",
    "\n",
    "# conversao = compradores/ visitantes\n"
   ]
  },
  {
   "cell_type": "markdown",
   "id": "9224fe6f",
   "metadata": {},
   "source": [
    "# 3.0 Startistic Test"
   ]
  },
  {
   "cell_type": "markdown",
   "id": "5f2ec3e5",
   "metadata": {},
   "source": [
    "## 3.1 Onse simple test"
   ]
  },
  {
   "cell_type": "code",
   "execution_count": 31,
   "id": "cc34a295",
   "metadata": {
    "ExecuteTime": {
     "end_time": "2022-08-22T19:31:33.211188Z",
     "start_time": "2022-08-22T19:31:33.205568Z"
    }
   },
   "outputs": [],
   "source": [
    "import numpy as np\n",
    "from scipy.stats import ttest_1samp\n",
    "from scipy.stats import shapiro, ttest_ind\n",
    "from scipy.stats import mannwhitneyu"
   ]
  },
  {
   "cell_type": "code",
   "execution_count": 4,
   "id": "fc03e1ee",
   "metadata": {
    "ExecuteTime": {
     "end_time": "2022-08-22T15:16:48.353726Z",
     "start_time": "2022-08-22T15:16:48.348464Z"
    }
   },
   "outputs": [
    {
     "data": {
      "text/plain": [
       "14.333333333333334"
      ]
     },
     "execution_count": 4,
     "metadata": {},
     "output_type": "execute_result"
    }
   ],
   "source": [
    "df = [ 14, 14, 16, 13, 12, 17, 15, 14, 15, 13,15, 14]\n",
    "\n",
    "# H0 = u = 15 ( The avarange plant height, in fact, is 15 cm )\n",
    "# H1 = u <> 15 ( The avarange plant height is diferente 15 cm )\n",
    "np.mean(df)"
   ]
  },
  {
   "cell_type": "code",
   "execution_count": 13,
   "id": "7416a084",
   "metadata": {
    "ExecuteTime": {
     "end_time": "2022-08-22T15:39:34.975714Z",
     "start_time": "2022-08-22T15:39:34.970561Z"
    }
   },
   "outputs": [
    {
     "name": "stdout",
     "output_type": "stream",
     "text": [
      "p_value: 0.12014460742498101\n",
      "Failed to reject the null hypothesi \n"
     ]
    }
   ],
   "source": [
    "statstic, p_value = ttest_1samp( df, popmean=15 )\n",
    "print( 'p_value: {}'.format( p_value ) )\n",
    "\n",
    "alpha = 0.05\n",
    "if pvalue < alpha:\n",
    "    print( 'Accept the null hypothesi' )\n",
    "    \n",
    "else: \n",
    "    print( 'Failed to reject the null hypothesi ')\n",
    "    \n",
    "# I don't have enought evidence showing the averange plants height;\n",
    "# "
   ]
  },
  {
   "cell_type": "markdown",
   "id": "532097b4",
   "metadata": {},
   "source": [
    "## 3.2 Two sample Test"
   ]
  },
  {
   "cell_type": "code",
   "execution_count": 16,
   "id": "f6aa7970",
   "metadata": {
    "ExecuteTime": {
     "end_time": "2022-08-22T15:44:04.763675Z",
     "start_time": "2022-08-22T15:44:04.756519Z"
    }
   },
   "outputs": [
    {
     "name": "stdout",
     "output_type": "stream",
     "text": [
      "14.545454545454545\n",
      "15.409090909090908\n"
     ]
    }
   ],
   "source": [
    "df1 =np.array( [ 14, 15, 15, 13, 12, 17, 15, 14, 15, 13,15, 14, 19, 19, 14, 14, 17, 22, 24, 13, 1, 5])\n",
    "df2 = np.array([ 15, 17, 14, 17, 8, 12, 19, 19, 14, 14, 17, 22, 24, 13, 16, 16,13, 18, 15, 13, 14, 9])\n",
    "\n",
    "# H0 = u1 = u2 ( The avarange plant height are the same )\n",
    "# H1 = u <> 15 ( The avarange plant height are diferente )\n",
    "\n",
    "print( np.mean( df1 ) )\n",
    "print( np.mean( df2 ) )"
   ]
  },
  {
   "cell_type": "code",
   "execution_count": 25,
   "id": "7b813c15",
   "metadata": {
    "ExecuteTime": {
     "end_time": "2022-08-22T16:11:14.067881Z",
     "start_time": "2022-08-22T16:11:14.050902Z"
    },
    "scrolled": true
   },
   "outputs": [
    {
     "name": "stdout",
     "output_type": "stream",
     "text": [
      "p-value: 0.008699823170900345\n",
      "p-value: 0.6836847066879272\n",
      "\n",
      "Var 1: 22.15702479338843\n",
      "Var 2: 13.241735537190085\n",
      "p-value: 0.509564680897056\n",
      "Failed to reject the null hypothesi \n"
     ]
    }
   ],
   "source": [
    "# Parameters conditions\n",
    "# 1. Independent sample;\n",
    "# 1. Normally distributed;\n",
    "\n",
    "# H0: Non-normal distribution\n",
    "# H1: Normally distributed \n",
    "\n",
    "# If pvalue < alpha:\n",
    "# print( 'Null Hypoyhesi Rejected')\n",
    "# pvalue = 0.00001 - Normally\n",
    "\n",
    "# else\n",
    "    # print( 'Failed to reject the null hypothesi ')\n",
    "    # pvalue = 0.89392 - Non-normal\n",
    "    \n",
    "    \n",
    "stats1, pvalue1 = shapiro( df1 ) \n",
    "print( 'p-value: {}'.format( pvalue1) )\n",
    "\n",
    "stats2, pvalue2 = shapiro( df2 ) \n",
    "print( 'p-value: {}'.format( pvalue2) )\n",
    "\n",
    "# Variance test\n",
    "print( '\\nVar 1: {}'.format( np.var( df1 ) ) )\n",
    "print( 'Var 2: {}'.format( np.var( df2 ) ) )\n",
    "\n",
    "stats, pvalue = ttest_ind( df1, df2, equal_var=True)\n",
    "print( 'p-value: {}'.format( pvalue ) )\n",
    "\n",
    "\n",
    "alpha = 0.05\n",
    "if pvalue < alpha:\n",
    "    print( 'reject the null hypothesi')\n",
    "else:\n",
    "    print( 'Failed to reject the null hypothesi ')\n",
    "\n",
    "\n"
   ]
  },
  {
   "cell_type": "markdown",
   "id": "0a697dbb",
   "metadata": {},
   "source": [
    "## 3.3 Mann- Whitney U-test ( unsatisfied parametric conditions)"
   ]
  },
  {
   "cell_type": "code",
   "execution_count": 27,
   "id": "823d661b",
   "metadata": {
    "ExecuteTime": {
     "end_time": "2022-08-22T16:30:12.346714Z",
     "start_time": "2022-08-22T16:30:12.342935Z"
    }
   },
   "outputs": [],
   "source": [
    "df1 = [ 20, 23, 21, 25, 18, 17, 18, 24, 26, 24, 23, 19]\n",
    "df2 = [ 24, 25, 21, 22, 23, 18, 17, 28, 24, 27, 21, 23]"
   ]
  },
  {
   "cell_type": "code",
   "execution_count": 32,
   "id": "3ee84a0c",
   "metadata": {
    "ExecuteTime": {
     "end_time": "2022-08-22T19:31:39.966852Z",
     "start_time": "2022-08-22T19:31:39.827460Z"
    }
   },
   "outputs": [
    {
     "name": "stdout",
     "output_type": "stream",
     "text": [
      "p-value: 0.39490261673927307\n",
      "p-value: 0.9021514058113098\n",
      "\n",
      "Var 1: 8.583333333333334\n",
      "Var 2: 9.6875\n",
      "p-value: 0.4327137429856426\n",
      "Failed to reject the null hypothesi \n"
     ]
    }
   ],
   "source": [
    "# H0 = u1 = u2 ( The avarange plant height group are the same )\n",
    "# H1 = u1 <> u2 ( The avarange plant height group are diferente )\n",
    "\n",
    "# Parameters conditions\n",
    "# 1. Independent sample;\n",
    "# 1. Normally distributed;\n",
    "\n",
    "# H0: Non-normal distribution\n",
    "# H1: Normally distributed \n",
    "\n",
    "# If pvalue < alpha:\n",
    "# print( 'Null Hypoyhesi Rejected')\n",
    "# pvalue = 0.00001 - Normally\n",
    "\n",
    "# else\n",
    "    # print( 'Failed to reject the null hypothesi ')\n",
    "    # pvalue = 0.89392 - Non-normal\n",
    "    \n",
    "    \n",
    "stats1, pvalue1 = shapiro( df1 ) \n",
    "print( 'p-value: {}'.format( pvalue1) )\n",
    "\n",
    "stats2, pvalue2 = shapiro( df2 ) \n",
    "print( 'p-value: {}'.format( pvalue2) )\n",
    "\n",
    "# Variance test\n",
    "print( '\\nVar 1: {}'.format( np.var( df1 ) ) )\n",
    "print( 'Var 2: {}'.format( np.var( df2 ) ) )\n",
    "\n",
    "\n",
    "\n",
    "#stats, pvalue = ttest_ind( df1, df2, equal_var=False)\n",
    "stats, pvalue = mannwhitneyu( df1, df2 )\n",
    "print( 'p-value: {}'.format( pvalue ) )\n",
    "\n",
    "alpha = 0.05\n",
    "if pvalue < alpha:\n",
    "    print( 'reject the null hypothesi')\n",
    "else:\n",
    "    print( 'Failed to reject the null hypothesi ')\n",
    "\n",
    "\n",
    "\n"
   ]
  },
  {
   "cell_type": "code",
   "execution_count": 39,
   "id": "ff6ce1aa",
   "metadata": {
    "ExecuteTime": {
     "end_time": "2022-08-22T20:11:07.598329Z",
     "start_time": "2022-08-22T20:11:05.017608Z"
    }
   },
   "outputs": [],
   "source": [
    "import pandas as pd\n",
    "import seaborn as sns\n",
    "\n",
    "df=pd.DataFrame( {'A':[25, 30, 28, 36,29],\n",
    "                  'B':[45, 55, 29, 56,40],\n",
    "                  'C':[30, 29, 33, 37,27],\n",
    "                  'D':[54, 60, 51, 62,73] })\n",
    "\n",
    "df_melt = pd.melt( df.reset_index(), id_vars=['index'], value_vars=['A', 'B', 'C', 'D'])"
   ]
  },
  {
   "cell_type": "code",
   "execution_count": 40,
   "id": "e05f5f53",
   "metadata": {
    "ExecuteTime": {
     "end_time": "2022-08-22T20:11:08.462196Z",
     "start_time": "2022-08-22T20:11:07.601168Z"
    }
   },
   "outputs": [
    {
     "ename": "ValueError",
     "evalue": "Could not interpret input 'trearment'",
     "output_type": "error",
     "traceback": [
      "\u001b[0;31m---------------------------------------------------------------------------\u001b[0m",
      "\u001b[0;31mValueError\u001b[0m                                Traceback (most recent call last)",
      "Input \u001b[0;32mIn [40]\u001b[0m, in \u001b[0;36m<cell line: 1>\u001b[0;34m()\u001b[0m\n\u001b[0;32m----> 1\u001b[0m \u001b[43msns\u001b[49m\u001b[38;5;241;43m.\u001b[39;49m\u001b[43mboxplot\u001b[49m\u001b[43m(\u001b[49m\u001b[43m \u001b[49m\u001b[43mx\u001b[49m\u001b[38;5;241;43m=\u001b[39;49m\u001b[38;5;124;43m'\u001b[39;49m\u001b[38;5;124;43mtrearment\u001b[39;49m\u001b[38;5;124;43m'\u001b[39;49m\u001b[43m,\u001b[49m\u001b[43m \u001b[49m\u001b[43my\u001b[49m\u001b[38;5;241;43m=\u001b[39;49m\u001b[38;5;124;43m'\u001b[39;49m\u001b[38;5;124;43mvalue\u001b[39;49m\u001b[38;5;124;43m'\u001b[39;49m\u001b[43m,\u001b[49m\u001b[43m \u001b[49m\u001b[43mdata\u001b[49m\u001b[38;5;241;43m=\u001b[39;49m\u001b[43mdf_melt\u001b[49m\u001b[43m)\u001b[49m\n",
      "File \u001b[0;32m~/opt/anaconda3/envs/env_abtesting/lib/python3.9/site-packages/seaborn/_decorators.py:46\u001b[0m, in \u001b[0;36m_deprecate_positional_args.<locals>.inner_f\u001b[0;34m(*args, **kwargs)\u001b[0m\n\u001b[1;32m     36\u001b[0m     warnings\u001b[38;5;241m.\u001b[39mwarn(\n\u001b[1;32m     37\u001b[0m         \u001b[38;5;124m\"\u001b[39m\u001b[38;5;124mPass the following variable\u001b[39m\u001b[38;5;132;01m{}\u001b[39;00m\u001b[38;5;124m as \u001b[39m\u001b[38;5;132;01m{}\u001b[39;00m\u001b[38;5;124mkeyword arg\u001b[39m\u001b[38;5;132;01m{}\u001b[39;00m\u001b[38;5;124m: \u001b[39m\u001b[38;5;132;01m{}\u001b[39;00m\u001b[38;5;124m. \u001b[39m\u001b[38;5;124m\"\u001b[39m\n\u001b[1;32m     38\u001b[0m         \u001b[38;5;124m\"\u001b[39m\u001b[38;5;124mFrom version 0.12, the only valid positional argument \u001b[39m\u001b[38;5;124m\"\u001b[39m\n\u001b[0;32m   (...)\u001b[0m\n\u001b[1;32m     43\u001b[0m         \u001b[38;5;167;01mFutureWarning\u001b[39;00m\n\u001b[1;32m     44\u001b[0m     )\n\u001b[1;32m     45\u001b[0m kwargs\u001b[38;5;241m.\u001b[39mupdate({k: arg \u001b[38;5;28;01mfor\u001b[39;00m k, arg \u001b[38;5;129;01min\u001b[39;00m \u001b[38;5;28mzip\u001b[39m(sig\u001b[38;5;241m.\u001b[39mparameters, args)})\n\u001b[0;32m---> 46\u001b[0m \u001b[38;5;28;01mreturn\u001b[39;00m \u001b[43mf\u001b[49m\u001b[43m(\u001b[49m\u001b[38;5;241;43m*\u001b[39;49m\u001b[38;5;241;43m*\u001b[39;49m\u001b[43mkwargs\u001b[49m\u001b[43m)\u001b[49m\n",
      "File \u001b[0;32m~/opt/anaconda3/envs/env_abtesting/lib/python3.9/site-packages/seaborn/categorical.py:2243\u001b[0m, in \u001b[0;36mboxplot\u001b[0;34m(x, y, hue, data, order, hue_order, orient, color, palette, saturation, width, dodge, fliersize, linewidth, whis, ax, **kwargs)\u001b[0m\n\u001b[1;32m   2231\u001b[0m \u001b[38;5;129m@_deprecate_positional_args\u001b[39m\n\u001b[1;32m   2232\u001b[0m \u001b[38;5;28;01mdef\u001b[39;00m \u001b[38;5;21mboxplot\u001b[39m(\n\u001b[1;32m   2233\u001b[0m     \u001b[38;5;241m*\u001b[39m,\n\u001b[0;32m   (...)\u001b[0m\n\u001b[1;32m   2240\u001b[0m     \u001b[38;5;241m*\u001b[39m\u001b[38;5;241m*\u001b[39mkwargs\n\u001b[1;32m   2241\u001b[0m ):\n\u001b[0;32m-> 2243\u001b[0m     plotter \u001b[38;5;241m=\u001b[39m \u001b[43m_BoxPlotter\u001b[49m\u001b[43m(\u001b[49m\u001b[43mx\u001b[49m\u001b[43m,\u001b[49m\u001b[43m \u001b[49m\u001b[43my\u001b[49m\u001b[43m,\u001b[49m\u001b[43m \u001b[49m\u001b[43mhue\u001b[49m\u001b[43m,\u001b[49m\u001b[43m \u001b[49m\u001b[43mdata\u001b[49m\u001b[43m,\u001b[49m\u001b[43m \u001b[49m\u001b[43morder\u001b[49m\u001b[43m,\u001b[49m\u001b[43m \u001b[49m\u001b[43mhue_order\u001b[49m\u001b[43m,\u001b[49m\n\u001b[1;32m   2244\u001b[0m \u001b[43m                          \u001b[49m\u001b[43morient\u001b[49m\u001b[43m,\u001b[49m\u001b[43m \u001b[49m\u001b[43mcolor\u001b[49m\u001b[43m,\u001b[49m\u001b[43m \u001b[49m\u001b[43mpalette\u001b[49m\u001b[43m,\u001b[49m\u001b[43m \u001b[49m\u001b[43msaturation\u001b[49m\u001b[43m,\u001b[49m\n\u001b[1;32m   2245\u001b[0m \u001b[43m                          \u001b[49m\u001b[43mwidth\u001b[49m\u001b[43m,\u001b[49m\u001b[43m \u001b[49m\u001b[43mdodge\u001b[49m\u001b[43m,\u001b[49m\u001b[43m \u001b[49m\u001b[43mfliersize\u001b[49m\u001b[43m,\u001b[49m\u001b[43m \u001b[49m\u001b[43mlinewidth\u001b[49m\u001b[43m)\u001b[49m\n\u001b[1;32m   2247\u001b[0m     \u001b[38;5;28;01mif\u001b[39;00m ax \u001b[38;5;129;01mis\u001b[39;00m \u001b[38;5;28;01mNone\u001b[39;00m:\n\u001b[1;32m   2248\u001b[0m         ax \u001b[38;5;241m=\u001b[39m plt\u001b[38;5;241m.\u001b[39mgca()\n",
      "File \u001b[0;32m~/opt/anaconda3/envs/env_abtesting/lib/python3.9/site-packages/seaborn/categorical.py:406\u001b[0m, in \u001b[0;36m_BoxPlotter.__init__\u001b[0;34m(self, x, y, hue, data, order, hue_order, orient, color, palette, saturation, width, dodge, fliersize, linewidth)\u001b[0m\n\u001b[1;32m    402\u001b[0m \u001b[38;5;28;01mdef\u001b[39;00m \u001b[38;5;21m__init__\u001b[39m(\u001b[38;5;28mself\u001b[39m, x, y, hue, data, order, hue_order,\n\u001b[1;32m    403\u001b[0m              orient, color, palette, saturation,\n\u001b[1;32m    404\u001b[0m              width, dodge, fliersize, linewidth):\n\u001b[0;32m--> 406\u001b[0m     \u001b[38;5;28;43mself\u001b[39;49m\u001b[38;5;241;43m.\u001b[39;49m\u001b[43mestablish_variables\u001b[49m\u001b[43m(\u001b[49m\u001b[43mx\u001b[49m\u001b[43m,\u001b[49m\u001b[43m \u001b[49m\u001b[43my\u001b[49m\u001b[43m,\u001b[49m\u001b[43m \u001b[49m\u001b[43mhue\u001b[49m\u001b[43m,\u001b[49m\u001b[43m \u001b[49m\u001b[43mdata\u001b[49m\u001b[43m,\u001b[49m\u001b[43m \u001b[49m\u001b[43morient\u001b[49m\u001b[43m,\u001b[49m\u001b[43m \u001b[49m\u001b[43morder\u001b[49m\u001b[43m,\u001b[49m\u001b[43m \u001b[49m\u001b[43mhue_order\u001b[49m\u001b[43m)\u001b[49m\n\u001b[1;32m    407\u001b[0m     \u001b[38;5;28mself\u001b[39m\u001b[38;5;241m.\u001b[39mestablish_colors(color, palette, saturation)\n\u001b[1;32m    409\u001b[0m     \u001b[38;5;28mself\u001b[39m\u001b[38;5;241m.\u001b[39mdodge \u001b[38;5;241m=\u001b[39m dodge\n",
      "File \u001b[0;32m~/opt/anaconda3/envs/env_abtesting/lib/python3.9/site-packages/seaborn/categorical.py:153\u001b[0m, in \u001b[0;36m_CategoricalPlotter.establish_variables\u001b[0;34m(self, x, y, hue, data, orient, order, hue_order, units)\u001b[0m\n\u001b[1;32m    151\u001b[0m     \u001b[38;5;28;01mif\u001b[39;00m \u001b[38;5;28misinstance\u001b[39m(var, \u001b[38;5;28mstr\u001b[39m):\n\u001b[1;32m    152\u001b[0m         err \u001b[38;5;241m=\u001b[39m \u001b[38;5;124m\"\u001b[39m\u001b[38;5;124mCould not interpret input \u001b[39m\u001b[38;5;124m'\u001b[39m\u001b[38;5;132;01m{}\u001b[39;00m\u001b[38;5;124m'\u001b[39m\u001b[38;5;124m\"\u001b[39m\u001b[38;5;241m.\u001b[39mformat(var)\n\u001b[0;32m--> 153\u001b[0m         \u001b[38;5;28;01mraise\u001b[39;00m \u001b[38;5;167;01mValueError\u001b[39;00m(err)\n\u001b[1;32m    155\u001b[0m \u001b[38;5;66;03m# Figure out the plotting orientation\u001b[39;00m\n\u001b[1;32m    156\u001b[0m orient \u001b[38;5;241m=\u001b[39m infer_orient(\n\u001b[1;32m    157\u001b[0m     x, y, orient, require_numeric\u001b[38;5;241m=\u001b[39m\u001b[38;5;28mself\u001b[39m\u001b[38;5;241m.\u001b[39mrequire_numeric\n\u001b[1;32m    158\u001b[0m )\n",
      "\u001b[0;31mValueError\u001b[0m: Could not interpret input 'trearment'"
     ]
    }
   ],
   "source": [
    "sns.boxplot( x='trearment', y='value', data=df_melt)"
   ]
  },
  {
   "cell_type": "code",
   "execution_count": null,
   "id": "590d34e9",
   "metadata": {},
   "outputs": [],
   "source": []
  }
 ],
 "metadata": {
  "kernelspec": {
   "display_name": "Python 3 (ipykernel)",
   "language": "python",
   "name": "python3"
  },
  "language_info": {
   "codemirror_mode": {
    "name": "ipython",
    "version": 3
   },
   "file_extension": ".py",
   "mimetype": "text/x-python",
   "name": "python",
   "nbconvert_exporter": "python",
   "pygments_lexer": "ipython3",
   "version": "3.9.12"
  }
 },
 "nbformat": 4,
 "nbformat_minor": 5
}
