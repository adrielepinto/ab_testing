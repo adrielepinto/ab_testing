{
 "cells": [
  {
   "cell_type": "markdown",
   "id": "02842a37",
   "metadata": {},
   "source": [
    "# 0.1 Imports"
   ]
  },
  {
   "cell_type": "code",
   "execution_count": 42,
   "id": "bc434458",
   "metadata": {
    "ExecuteTime": {
     "end_time": "2023-03-03T14:40:45.884924Z",
     "start_time": "2023-03-03T14:40:45.880202Z"
    }
   },
   "outputs": [],
   "source": [
    "import math\n",
    "import pandas as pd\n",
    "import numpy  as np\n",
    "import pandas as pd\n",
    "import seaborn as sns\n",
    "\n",
    "from statsmodels.stats import api as sms\n",
    "from scipy.stats import shapiro\n",
    "from statsmodels.stats.multicomp import  pairwise_tukeyhsd"
   ]
  },
  {
   "cell_type": "markdown",
   "id": "ec89b75c",
   "metadata": {},
   "source": [
    "# 0.2 Helper Functions\n"
   ]
  },
  {
   "cell_type": "code",
   "execution_count": 2,
   "id": "f7ffccfc",
   "metadata": {
    "ExecuteTime": {
     "end_time": "2023-03-03T13:48:33.721643Z",
     "start_time": "2023-03-03T13:48:33.714938Z"
    }
   },
   "outputs": [],
   "source": [
    "def jupyter_settings(): \n",
    "    %matplotlib inline \n",
    "    #%matplotlib notebook\n",
    "    %pylab inline\n",
    "    \n",
    "    plt.style.use('bmh')\n",
    "    plt.rcParams['figure.figsize'] = [25, 12]\n",
    "    plt.rcParams['font.size'] = 24\n",
    "    \n",
    "     \n",
    "    display( HTML( '<style>.container { width:100% !important; }</style>') )\n",
    "    pd.options.display.max_columns = None\n",
    "    pd.options.display.max_rows = None\n",
    "    pd.set_option ('display.expand_frame_repr', False)\n",
    "    \n",
    "    sns.set()\n"
   ]
  },
  {
   "cell_type": "markdown",
   "id": "28c95ac7",
   "metadata": {
    "ExecuteTime": {
     "end_time": "2022-08-19T16:06:14.996969Z",
     "start_time": "2022-08-19T16:06:14.994084Z"
    }
   },
   "source": [
    "# 1.0 Data Description"
   ]
  },
  {
   "cell_type": "code",
   "execution_count": 3,
   "id": "54445576",
   "metadata": {
    "ExecuteTime": {
     "end_time": "2023-03-03T13:48:34.391843Z",
     "start_time": "2023-03-03T13:48:34.076675Z"
    }
   },
   "outputs": [
    {
     "data": {
      "text/html": [
       "<div>\n",
       "<style scoped>\n",
       "    .dataframe tbody tr th:only-of-type {\n",
       "        vertical-align: middle;\n",
       "    }\n",
       "\n",
       "    .dataframe tbody tr th {\n",
       "        vertical-align: top;\n",
       "    }\n",
       "\n",
       "    .dataframe thead th {\n",
       "        text-align: right;\n",
       "    }\n",
       "</style>\n",
       "<table border=\"1\" class=\"dataframe\">\n",
       "  <thead>\n",
       "    <tr style=\"text-align: right;\">\n",
       "      <th></th>\n",
       "      <th>user_id</th>\n",
       "      <th>timestamp</th>\n",
       "      <th>group</th>\n",
       "      <th>landing_page</th>\n",
       "      <th>converted</th>\n",
       "    </tr>\n",
       "  </thead>\n",
       "  <tbody>\n",
       "    <tr>\n",
       "      <th>0</th>\n",
       "      <td>851104</td>\n",
       "      <td>2017-01-21 22:11:48.556739</td>\n",
       "      <td>control</td>\n",
       "      <td>old_page</td>\n",
       "      <td>0</td>\n",
       "    </tr>\n",
       "    <tr>\n",
       "      <th>1</th>\n",
       "      <td>804228</td>\n",
       "      <td>2017-01-12 08:01:45.159739</td>\n",
       "      <td>control</td>\n",
       "      <td>old_page</td>\n",
       "      <td>0</td>\n",
       "    </tr>\n",
       "    <tr>\n",
       "      <th>2</th>\n",
       "      <td>661590</td>\n",
       "      <td>2017-01-11 16:55:06.154213</td>\n",
       "      <td>treatment</td>\n",
       "      <td>new_page</td>\n",
       "      <td>0</td>\n",
       "    </tr>\n",
       "    <tr>\n",
       "      <th>3</th>\n",
       "      <td>853541</td>\n",
       "      <td>2017-01-08 18:28:03.143765</td>\n",
       "      <td>treatment</td>\n",
       "      <td>new_page</td>\n",
       "      <td>0</td>\n",
       "    </tr>\n",
       "    <tr>\n",
       "      <th>4</th>\n",
       "      <td>864975</td>\n",
       "      <td>2017-01-21 01:52:26.210827</td>\n",
       "      <td>control</td>\n",
       "      <td>old_page</td>\n",
       "      <td>1</td>\n",
       "    </tr>\n",
       "  </tbody>\n",
       "</table>\n",
       "</div>"
      ],
      "text/plain": [
       "   user_id                   timestamp      group landing_page  converted\n",
       "0   851104  2017-01-21 22:11:48.556739    control     old_page          0\n",
       "1   804228  2017-01-12 08:01:45.159739    control     old_page          0\n",
       "2   661590  2017-01-11 16:55:06.154213  treatment     new_page          0\n",
       "3   853541  2017-01-08 18:28:03.143765  treatment     new_page          0\n",
       "4   864975  2017-01-21 01:52:26.210827    control     old_page          1"
      ]
     },
     "execution_count": 3,
     "metadata": {},
     "output_type": "execute_result"
    }
   ],
   "source": [
    "df_raw = pd.read_csv('/Users/adriele/Documents/repos/ab_testing/dataset/ab_data_james.csv')\n",
    "df_raw.head()"
   ]
  },
  {
   "cell_type": "code",
   "execution_count": null,
   "id": "ac1ebad7",
   "metadata": {
    "ExecuteTime": {
     "end_time": "2022-08-22T02:31:55.349532Z",
     "start_time": "2022-08-22T02:31:55.047727Z"
    }
   },
   "outputs": [],
   "source": []
  },
  {
   "cell_type": "code",
   "execution_count": 4,
   "id": "5f19e237",
   "metadata": {
    "ExecuteTime": {
     "end_time": "2023-03-03T13:48:35.609195Z",
     "start_time": "2023-03-03T13:48:35.492202Z"
    }
   },
   "outputs": [
    {
     "data": {
      "text/plain": [
       "user_id         0\n",
       "timestamp       0\n",
       "group           0\n",
       "landing_page    0\n",
       "converted       0\n",
       "dtype: int64"
      ]
     },
     "execution_count": 4,
     "metadata": {},
     "output_type": "execute_result"
    }
   ],
   "source": [
    "df_raw.isna().sum()"
   ]
  },
  {
   "cell_type": "code",
   "execution_count": 5,
   "id": "e95168eb",
   "metadata": {
    "ExecuteTime": {
     "end_time": "2023-03-03T13:48:35.960031Z",
     "start_time": "2023-03-03T13:48:35.957555Z"
    }
   },
   "outputs": [],
   "source": [
    "# # Flags test A\n",
    "\n",
    "# df_user_delete = df_raw[['user_id', 'group', 'landing_page']].groupby( ['group',\n",
    "#                                                                      'landing_page'] ).count().reset_index()\n",
    "# # data without duplicates\n",
    "# df1 = df_raw[~df_raw['user_id'].isin( df_user_delete )]"
   ]
  },
  {
   "cell_type": "markdown",
   "id": "92d5bc15",
   "metadata": {},
   "source": [
    "# 2.0 Experiment Design"
   ]
  },
  {
   "cell_type": "markdown",
   "id": "d5e1235e",
   "metadata": {
    "heading_collapsed": true
   },
   "source": [
    "## 2.1 Hypothesis formulation"
   ]
  },
  {
   "cell_type": "markdown",
   "id": "38677c34",
   "metadata": {},
   "source": [
    "## 2.2 Experiment Paramiter"
   ]
  },
  {
   "cell_type": "code",
   "execution_count": 6,
   "id": "b725415b",
   "metadata": {
    "ExecuteTime": {
     "end_time": "2023-03-03T13:48:38.584981Z",
     "start_time": "2023-03-03T13:48:38.582071Z"
    }
   },
   "outputs": [],
   "source": [
    "# A/B Test - paramiter\n",
    "# A/B test - Permutacao\n",
    "# Z-Test ( )\n"
   ]
  },
  {
   "cell_type": "code",
   "execution_count": 7,
   "id": "3b8ca6cc",
   "metadata": {
    "ExecuteTime": {
     "end_time": "2023-03-03T13:48:39.375936Z",
     "start_time": "2023-03-03T13:48:39.360596Z"
    }
   },
   "outputs": [
    {
     "data": {
      "text/plain": [
       "4720"
      ]
     },
     "execution_count": 7,
     "metadata": {},
     "output_type": "execute_result"
    }
   ],
   "source": [
    "# confidence level\n",
    "confidence_level = 0.95\n",
    "\n",
    "# Significance Level\n",
    "significance_level = 0.05\n",
    "\n",
    "# Convertions new and old page\n",
    "p1 = 0.13\n",
    "p2 = 0.15\n",
    "\n",
    "# effect size\n",
    "effect_size = sms.proportion_effectsize( p1, p2)\n",
    "\n",
    "# Statisc Power\n",
    "power = 0.80\n",
    "\n",
    "# Sample size\n",
    "sample_n = sms.NormalIndPower().solve_power(\n",
    "                effect_size,\n",
    "                power=power,\n",
    "                alpha=significance_level\n",
    ")\n",
    "\n",
    "sample_n = math.ceil( sample_n )\n",
    "sample_n"
   ]
  },
  {
   "cell_type": "code",
   "execution_count": 10,
   "id": "9c965040",
   "metadata": {
    "ExecuteTime": {
     "end_time": "2023-03-03T13:52:04.133158Z",
     "start_time": "2023-03-03T13:52:03.900966Z"
    }
   },
   "outputs": [
    {
     "name": "stdout",
     "output_type": "stream",
     "text": [
      "Size of Treatment Group: 4720\n",
      "Size of Control Group: 4720\n",
      "Coversion rate - Control Group: 0.11864406779661017\n",
      "Coversion rate - Control Group: 0.11970338983050847\n"
     ]
    }
   ],
   "source": [
    "# Data preparation\n",
    "df_aux = df_raw[['user_id', 'group']].groupby( 'user_id' ).count().reset_index().query( 'group > 1')\n",
    "df3 = df_raw[ ~df_raw[ 'user_id'].isin( df_aux['user_id'] ) ]\n",
    "\n",
    "#df3[['user_id', 'group']].groupby( 'user_id' ).count().reset_index().query( 'group > 1')\n",
    "\n",
    "# sampling\n",
    "df_treatment_sample = df3[df3['group'] == 'treatment'].sample( n=sample_n, random_state=32 )\n",
    "print ( 'Size of Treatment Group: {}'.format( df_treatment_sample.shape[0] ) )\n",
    "\n",
    "df_control_sample = df3[df3['group'] == 'control'].sample( n=sample_n, random_state=32 )\n",
    "print ( 'Size of Control Group: {}'.format( df_control_sample.shape[0] ) )\n",
    "\n",
    "df_ab = pd.concat([df_controlt_sample, df_treatment_sample ]  )\n",
    "\n",
    "\n",
    "\n",
    "# conversion rate\n",
    "converted = df_control_sample.loc[df_control_sample['converted'] == 1, 'converted'].sum()\n",
    "conversion_rate_control = converted / len( df_control_sample['converted'] )\n",
    "print ( 'Coversion rate - Control Group: {}'.format( conversion_rate_control) )\n",
    "\n",
    "treatment_converted = df_treatment_sample.loc[df_treatment_sample['converted'] == 1, 'converted'].sum()\n",
    "conversion_rate_treatment = treatment_converted / len( df_treatment_sample['converted'] )\n",
    "print ( 'Coversion rate - Control Group: {}'.format( conversion_rate_treatment) )\n",
    "\n",
    "\n",
    "# hypothesi test\n",
    "df_table = df_ab[['group', 'converted']].groupby( 'group' ).agg( {'converted': ['sum', 'count']})\n",
    "\n",
    "# Conclusion\n",
    "\n",
    "# Result coversion $"
   ]
  },
  {
   "cell_type": "code",
   "execution_count": null,
   "id": "b1154439",
   "metadata": {},
   "outputs": [],
   "source": []
  },
  {
   "cell_type": "code",
   "execution_count": 12,
   "id": "25622461",
   "metadata": {
    "ExecuteTime": {
     "end_time": "2023-03-03T13:53:51.548537Z",
     "start_time": "2023-03-03T13:53:51.476302Z"
    }
   },
   "outputs": [
    {
     "name": "stdout",
     "output_type": "stream",
     "text": [
      "Size of Control Group: 4720\n",
      "Size of Treatment Group: 4720\n"
     ]
    }
   ],
   "source": [
    "## 2.2 amostragem aleatoria\n",
    "df_control_sample = df_raw[df_raw['group'] == 'control'].sample( n=sample_n, random_state=42 )\n",
    "print ( 'Size of Control Group: {}'.format( df_control_sample.shape[0] ) )\n",
    "\n",
    "# Treatment Group\n",
    "df_treatment_sample = df_raw[df_raw['group'] == 'treatment'].sample( n=sample_n, random_state=42 )\n",
    "print ( 'Size of Treatment Group: {}'.format( df_treatment_sample.shape[0] ) )\n",
    "\n",
    "# Total Sample\n",
    "df_ab = pd.concat([ df_control_sample, df_treatment_sample] ).reset_index( drop=True )"
   ]
  },
  {
   "cell_type": "code",
   "execution_count": 14,
   "id": "e2d731f2",
   "metadata": {
    "ExecuteTime": {
     "end_time": "2023-03-03T13:54:46.909726Z",
     "start_time": "2023-03-03T13:54:46.902227Z"
    }
   },
   "outputs": [
    {
     "name": "stdout",
     "output_type": "stream",
     "text": [
      "Convertion Rate - Control Group: 0.13241525423728814\n",
      "Convertion Rate - Treatment Group: 0.11991525423728813\n"
     ]
    }
   ],
   "source": [
    "# metrics between groups\n",
    "# ======================== Group Control =========================\n",
    "sales = df_control_sample.loc[df_control_sample['converted'] == 1, 'converted'].sum()\n",
    "visit = len( df_control_sample )\n",
    "\n",
    "conversion_rate_control = sales / visit\n",
    "print ( 'Convertion Rate - Control Group: {}'.format( conversion_rate_control ))\n",
    "\n",
    "# ======================== Group Control =========================\n",
    "sales = df_treatment_sample.loc[df_treatment_sample['converted'] == 1, 'converted'].sum()\n",
    "visit = len( df_treatment_sample )\n",
    "\n",
    "conversion_rate_treatment = sales / visit\n",
    "print ( 'Convertion Rate - Treatment Group: {}'.format( conversion_rate_treatment ))\n",
    "\n",
    "\n",
    "\n",
    "# conversao = compradores/ visitantes\n"
   ]
  },
  {
   "cell_type": "markdown",
   "id": "9224fe6f",
   "metadata": {},
   "source": [
    "# 3.0 Startistic Test"
   ]
  },
  {
   "cell_type": "markdown",
   "id": "5f2ec3e5",
   "metadata": {},
   "source": [
    "## 3.1 Onse simple test"
   ]
  },
  {
   "cell_type": "code",
   "execution_count": 15,
   "id": "cc34a295",
   "metadata": {
    "ExecuteTime": {
     "end_time": "2023-03-03T13:54:48.212077Z",
     "start_time": "2023-03-03T13:54:48.208648Z"
    }
   },
   "outputs": [],
   "source": [
    "import numpy as np\n",
    "from scipy.stats import ttest_1samp\n",
    "from scipy.stats import shapiro, ttest_ind\n",
    "from scipy.stats import mannwhitneyu"
   ]
  },
  {
   "cell_type": "code",
   "execution_count": 16,
   "id": "fc03e1ee",
   "metadata": {
    "ExecuteTime": {
     "end_time": "2023-03-03T13:54:48.737712Z",
     "start_time": "2023-03-03T13:54:48.732223Z"
    }
   },
   "outputs": [
    {
     "data": {
      "text/plain": [
       "14.333333333333334"
      ]
     },
     "execution_count": 16,
     "metadata": {},
     "output_type": "execute_result"
    }
   ],
   "source": [
    "df = [ 14, 14, 16, 13, 12, 17, 15, 14, 15, 13,15, 14]\n",
    "\n",
    "# H0 = u = 15 ( The avarange plant height, in fact, is 15 cm )\n",
    "# H1 = u <> 15 ( The avarange plant height is diferente 15 cm )\n",
    "np.mean(df)"
   ]
  },
  {
   "cell_type": "code",
   "execution_count": 18,
   "id": "7416a084",
   "metadata": {
    "ExecuteTime": {
     "end_time": "2023-03-03T13:57:50.901090Z",
     "start_time": "2023-03-03T13:57:50.896141Z"
    }
   },
   "outputs": [
    {
     "name": "stdout",
     "output_type": "stream",
     "text": [
      "p_value: 0.12014460742498101\n",
      "Failed to reject the null hypothesi \n"
     ]
    }
   ],
   "source": [
    "statstic, pvalue = ttest_1samp( df, popmean=15 )\n",
    "print( 'p_value: {}'.format( p_value ) )\n",
    "\n",
    "alpha = 0.05\n",
    "if pvalue < alpha:\n",
    "    print( 'Accept the null hypothesi' )\n",
    "    \n",
    "else: \n",
    "    print( 'Failed to reject the null hypothesi ')\n",
    "    \n",
    "# I don't have enought evidence showing the averange plants height;\n",
    "# "
   ]
  },
  {
   "cell_type": "markdown",
   "id": "532097b4",
   "metadata": {},
   "source": [
    "## 3.2 Two sample Test"
   ]
  },
  {
   "cell_type": "code",
   "execution_count": 19,
   "id": "f6aa7970",
   "metadata": {
    "ExecuteTime": {
     "end_time": "2023-03-03T13:57:59.312742Z",
     "start_time": "2023-03-03T13:57:59.307821Z"
    }
   },
   "outputs": [
    {
     "name": "stdout",
     "output_type": "stream",
     "text": [
      "14.545454545454545\n",
      "15.409090909090908\n"
     ]
    }
   ],
   "source": [
    "df1 =np.array( [ 14, 15, 15, 13, 12, 17, 15, 14, 15, 13,15, 14, 19, 19, 14, 14, 17, 22, 24, 13, 1, 5])\n",
    "df2 = np.array([ 15, 17, 14, 17, 8, 12, 19, 19, 14, 14, 17, 22, 24, 13, 16, 16,13, 18, 15, 13, 14, 9])\n",
    "\n",
    "# H0 = u1 = u2 ( The avarange plant height are the same )\n",
    "# H1 = u <> 15 ( The avarange plant height are diferente )\n",
    "\n",
    "print( np.mean( df1 ) )\n",
    "print( np.mean( df2 ) )"
   ]
  },
  {
   "cell_type": "code",
   "execution_count": 20,
   "id": "7b813c15",
   "metadata": {
    "ExecuteTime": {
     "end_time": "2023-03-03T13:58:00.843319Z",
     "start_time": "2023-03-03T13:58:00.835427Z"
    },
    "scrolled": true
   },
   "outputs": [
    {
     "name": "stdout",
     "output_type": "stream",
     "text": [
      "p-value: 0.008699823170900345\n",
      "p-value: 0.6836847066879272\n",
      "\n",
      "Var 1: 22.15702479338843\n",
      "Var 2: 13.241735537190085\n",
      "p-value: 0.509564680897056\n",
      "Failed to reject the null hypothesi \n"
     ]
    }
   ],
   "source": [
    "# Parameters conditions\n",
    "# 1. Independent sample;\n",
    "# 1. Normally distributed;\n",
    "\n",
    "# H0: Non-normal distribution\n",
    "# H1: Normally distributed \n",
    "\n",
    "# If pvalue < alpha:\n",
    "# print( 'Null Hypoyhesi Rejected')\n",
    "# pvalue = 0.00001 - Normally\n",
    "\n",
    "# else\n",
    "    # print( 'Failed to reject the null hypothesi ')\n",
    "    # pvalue = 0.89392 - Non-normal\n",
    "    \n",
    "    \n",
    "stats1, pvalue1 = shapiro( df1 ) \n",
    "print( 'p-value: {}'.format( pvalue1) )\n",
    "\n",
    "stats2, pvalue2 = shapiro( df2 ) \n",
    "print( 'p-value: {}'.format( pvalue2) )\n",
    "\n",
    "# Variance test\n",
    "print( '\\nVar 1: {}'.format( np.var( df1 ) ) )\n",
    "print( 'Var 2: {}'.format( np.var( df2 ) ) )\n",
    "\n",
    "stats, pvalue = ttest_ind( df1, df2, equal_var=True)\n",
    "print( 'p-value: {}'.format( pvalue ) )\n",
    "\n",
    "\n",
    "alpha = 0.05\n",
    "if pvalue < alpha:\n",
    "    print( 'reject the null hypothesi')\n",
    "else:\n",
    "    print( 'Failed to reject the null hypothesi ')\n",
    "\n",
    "\n"
   ]
  },
  {
   "cell_type": "markdown",
   "id": "0a697dbb",
   "metadata": {},
   "source": [
    "## 3.3 Mann- Whitney U-test ( unsatisfied parametric conditions)"
   ]
  },
  {
   "cell_type": "code",
   "execution_count": 21,
   "id": "823d661b",
   "metadata": {
    "ExecuteTime": {
     "end_time": "2023-03-03T13:58:06.181330Z",
     "start_time": "2023-03-03T13:58:06.177949Z"
    }
   },
   "outputs": [],
   "source": [
    "df1 = [ 20, 23, 21, 25, 18, 17, 18, 24, 26, 24, 23, 19]\n",
    "df2 = [ 24, 25, 21, 22, 23, 18, 17, 28, 24, 27, 21, 23]"
   ]
  },
  {
   "cell_type": "code",
   "execution_count": 22,
   "id": "3ee84a0c",
   "metadata": {
    "ExecuteTime": {
     "end_time": "2023-03-03T13:58:06.799063Z",
     "start_time": "2023-03-03T13:58:06.789789Z"
    }
   },
   "outputs": [
    {
     "name": "stdout",
     "output_type": "stream",
     "text": [
      "p-value: 0.39490261673927307\n",
      "p-value: 0.9021514058113098\n",
      "\n",
      "Var 1: 8.583333333333334\n",
      "Var 2: 9.6875\n",
      "p-value: 0.4327137429856426\n",
      "Failed to reject the null hypothesi \n"
     ]
    }
   ],
   "source": [
    "# H0 = u1 = u2 ( The avarange plant height group are the same )\n",
    "# H1 = u1 <> u2 ( The avarange plant height group are diferente )\n",
    "\n",
    "# Parameters conditions\n",
    "# 1. Independent sample;\n",
    "# 1. Normally distributed;\n",
    "\n",
    "# H0: Non-normal distribution\n",
    "# H1: Normally distributed \n",
    "\n",
    "# If pvalue < alpha:\n",
    "# print( 'Null Hypoyhesi Rejected')\n",
    "# pvalue = 0.00001 - Normally\n",
    "\n",
    "# else\n",
    "    # print( 'Failed to reject the null hypothesi ')\n",
    "    # pvalue = 0.89392 - Non-normal\n",
    "    \n",
    "    \n",
    "stats1, pvalue1 = shapiro( df1 ) \n",
    "print( 'p-value: {}'.format( pvalue1) )\n",
    "\n",
    "stats2, pvalue2 = shapiro( df2 ) \n",
    "print( 'p-value: {}'.format( pvalue2) )\n",
    "\n",
    "# Variance test\n",
    "print( '\\nVar 1: {}'.format( np.var( df1 ) ) )\n",
    "print( 'Var 2: {}'.format( np.var( df2 ) ) )\n",
    "\n",
    "\n",
    "\n",
    "#stats, pvalue = ttest_ind( df1, df2, equal_var=False)\n",
    "stats, pvalue = mannwhitneyu( df1, df2 )\n",
    "print( 'p-value: {}'.format( pvalue ) )\n",
    "\n",
    "alpha = 0.05\n",
    "if pvalue < alpha:\n",
    "    print( 'reject the null hypothesi')\n",
    "else:\n",
    "    print( 'Failed to reject the null hypothesi ')\n",
    "\n",
    "\n",
    "\n"
   ]
  },
  {
   "cell_type": "code",
   "execution_count": 36,
   "id": "ff6ce1aa",
   "metadata": {
    "ExecuteTime": {
     "end_time": "2023-03-03T14:23:58.868912Z",
     "start_time": "2023-03-03T14:23:58.852800Z"
    }
   },
   "outputs": [
    {
     "data": {
      "text/html": [
       "<div>\n",
       "<style scoped>\n",
       "    .dataframe tbody tr th:only-of-type {\n",
       "        vertical-align: middle;\n",
       "    }\n",
       "\n",
       "    .dataframe tbody tr th {\n",
       "        vertical-align: top;\n",
       "    }\n",
       "\n",
       "    .dataframe thead th {\n",
       "        text-align: right;\n",
       "    }\n",
       "</style>\n",
       "<table border=\"1\" class=\"dataframe\">\n",
       "  <thead>\n",
       "    <tr style=\"text-align: right;\">\n",
       "      <th></th>\n",
       "      <th>index</th>\n",
       "      <th>treatment</th>\n",
       "      <th>value</th>\n",
       "    </tr>\n",
       "  </thead>\n",
       "  <tbody>\n",
       "    <tr>\n",
       "      <th>0</th>\n",
       "      <td>0</td>\n",
       "      <td>A</td>\n",
       "      <td>25</td>\n",
       "    </tr>\n",
       "    <tr>\n",
       "      <th>1</th>\n",
       "      <td>1</td>\n",
       "      <td>A</td>\n",
       "      <td>30</td>\n",
       "    </tr>\n",
       "    <tr>\n",
       "      <th>2</th>\n",
       "      <td>2</td>\n",
       "      <td>A</td>\n",
       "      <td>28</td>\n",
       "    </tr>\n",
       "    <tr>\n",
       "      <th>3</th>\n",
       "      <td>3</td>\n",
       "      <td>A</td>\n",
       "      <td>36</td>\n",
       "    </tr>\n",
       "    <tr>\n",
       "      <th>4</th>\n",
       "      <td>4</td>\n",
       "      <td>A</td>\n",
       "      <td>29</td>\n",
       "    </tr>\n",
       "  </tbody>\n",
       "</table>\n",
       "</div>"
      ],
      "text/plain": [
       "   index treatment  value\n",
       "0      0         A     25\n",
       "1      1         A     30\n",
       "2      2         A     28\n",
       "3      3         A     36\n",
       "4      4         A     29"
      ]
     },
     "execution_count": 36,
     "metadata": {},
     "output_type": "execute_result"
    }
   ],
   "source": [
    "\n",
    "\n",
    "df=pd.DataFrame( {'A':[25, 30, 28, 36,29],\n",
    "                  'B':[45, 55, 29, 56,40],\n",
    "                  'C':[30, 29, 33, 37,27],\n",
    "                  'D':[54, 60, 51, 62,73] })\n",
    "\n",
    "df_melt = pd.melt( df.reset_index(), id_vars=['index'], value_vars=['A', 'B', 'C', 'D'])\n",
    "df_melt.columns = ['index', 'treatment', 'value']\n",
    "df_melt.head()"
   ]
  },
  {
   "cell_type": "code",
   "execution_count": 37,
   "id": "e05f5f53",
   "metadata": {
    "ExecuteTime": {
     "end_time": "2023-03-03T14:23:59.884107Z",
     "start_time": "2023-03-03T14:23:59.691319Z"
    }
   },
   "outputs": [
    {
     "data": {
      "text/plain": [
       "<AxesSubplot:xlabel='treatment', ylabel='value'>"
      ]
     },
     "execution_count": 37,
     "metadata": {},
     "output_type": "execute_result"
    },
    {
     "data": {
      "image/png": "[encoded data removed]",
      "text/plain": [
       "<Figure size 640x480 with 1 Axes>"
      ]
     },
     "metadata": {},
     "output_type": "display_data"
    }
   ],
   "source": [
    "sns.boxplot( x='treatment', y='value', data=df_melt)"
   ]
  },
  {
   "cell_type": "markdown",
   "id": "09e88fbd",
   "metadata": {},
   "source": [
    "## SHAPIRO TEST"
   ]
  },
  {
   "cell_type": "code",
   "execution_count": 34,
   "id": "590d34e9",
   "metadata": {
    "ExecuteTime": {
     "end_time": "2023-03-03T14:22:40.671763Z",
     "start_time": "2023-03-03T14:22:40.660986Z"
    }
   },
   "outputs": [
    {
     "name": "stdout",
     "output_type": "stream",
     "text": [
      "pvalue - Group A: ShapiroResult(statistic=0.9316344261169434, pvalue=0.6075581908226013)\n",
      "pvalue - Group B: ShapiroResult(statistic=0.9264495968818665, pvalue=0.5723677277565002)\n",
      "pvalue - Group C: ShapiroResult(statistic=0.9529604315757751, pvalue=0.7583119869232178)\n",
      "pvalue - Group D: ShapiroResult(statistic=0.9448273181915283, pvalue=0.7002365589141846)\n",
      "variance - Group A: 13.040000000000001\n",
      "variance - Group B: 100.4\n",
      "variance - Group C: 12.16\n",
      "variance - Group D: 58.0\n"
     ]
    }
   ],
   "source": [
    "print( 'pvalue - Group A: {}'.format( shapiro( df['A'] ) ) )\n",
    "print( 'pvalue - Group B: {}'.format( shapiro( df['B'] ) ) )\n",
    "print( 'pvalue - Group C: {}'.format( shapiro( df['C'] ) ) )\n",
    "print( 'pvalue - Group D: {}'.format( shapiro( df['D'] ) ) )\n",
    "\n",
    "print( 'variance - Group A: {}'.format( np.var( df['A'] ) ) )\n",
    "print( 'variance - Group B: {}'.format( np.var( df['B'] ) ) )\n",
    "print( 'variance - Group C: {}'.format( np.var( df['C'] ) ) )\n",
    "print( 'variance - Group D: {}'.format( np.var( df['D'] ) ) )"
   ]
  },
  {
   "cell_type": "code",
   "execution_count": 39,
   "id": "ee8b973b",
   "metadata": {
    "ExecuteTime": {
     "end_time": "2023-03-03T14:31:54.556849Z",
     "start_time": "2023-03-03T14:31:54.528592Z"
    }
   },
   "outputs": [
    {
     "name": "stdout",
     "output_type": "stream",
     "text": [
      "p-value: 2.639241146210922e-05\n"
     ]
    }
   ],
   "source": [
    "from scipy.stats import f_oneway\n",
    "stats, pvalue = f_oneway( df['A'], df['B'],df['C'], df['D'])\n",
    "print( 'p-value: {}'.format( pvalue ))"
   ]
  },
  {
   "cell_type": "code",
   "execution_count": 44,
   "id": "dfeebed4",
   "metadata": {
    "ExecuteTime": {
     "end_time": "2023-03-03T14:44:10.438875Z",
     "start_time": "2023-03-03T14:44:09.493353Z"
    }
   },
   "outputs": [
    {
     "name": "stdout",
     "output_type": "stream",
     "text": [
      "Multiple Comparison of Means - Tukey HSD, FWER=0.05\n",
      "===================================================\n",
      "group1 group2 meandiff p-adj   lower  upper  reject\n",
      "---------------------------------------------------\n",
      "     A      B     15.4 0.0251   1.694 29.106   True\n",
      "     A      C      1.6 0.9867 -12.106 15.306  False\n",
      "     A      D     30.4 0.0001  16.694 44.106   True\n",
      "     B      C    -13.8 0.0482 -27.506 -0.094   True\n",
      "     B      D     15.0 0.0296   1.294 28.706   True\n",
      "     C      D     28.8 0.0001  15.094 42.506   True\n",
      "---------------------------------------------------\n"
     ]
    }
   ],
   "source": [
    "tukey = pairwise_tukeyhsd( endog = df_melt['value'],\n",
    "                 groups = df_melt['treatment'], \n",
    "                 alpha = 0.05)\n",
    "\n",
    "print( tukey)"
   ]
  },
  {
   "cell_type": "code",
   "execution_count": null,
   "id": "30e2eacb",
   "metadata": {},
   "outputs": [],
   "source": []
  }
 ],
 "metadata": {
  "kernelspec": {
   "display_name": "Python 3 (ipykernel)",
   "language": "python",
   "name": "python3"
  },
  "language_info": {
   "codemirror_mode": {
    "name": "ipython",
    "version": 3
   },
   "file_extension": ".py",
   "mimetype": "text/x-python",
   "name": "python",
   "nbconvert_exporter": "python",
   "pygments_lexer": "ipython3",
   "version": "3.9.12"
  }
 },
 "nbformat": 4,
 "nbformat_minor": 5
}
