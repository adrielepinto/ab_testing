{
 "cells": [
  {
   "cell_type": "markdown",
   "id": "02842a37",
   "metadata": {},
   "source": [
    "# 0.1 Imports"
   ]
  },
  {
   "cell_type": "code",
   "execution_count": 2,
   "id": "bc434458",
   "metadata": {
    "ExecuteTime": {
     "end_time": "2023-03-06T16:42:29.279853Z",
     "start_time": "2023-03-06T16:42:27.773042Z"
    }
   },
   "outputs": [],
   "source": [
    "import math\n",
    "import pandas as pd\n",
    "import numpy  as np\n",
    "\n",
    "\n",
    "from statsmodels.stats import api as sms"
   ]
  },
  {
   "cell_type": "markdown",
   "id": "ec89b75c",
   "metadata": {},
   "source": [
    "# 0.2 Helper Functions\n"
   ]
  },
  {
   "cell_type": "code",
   "execution_count": 3,
   "id": "f7ffccfc",
   "metadata": {
    "ExecuteTime": {
     "end_time": "2023-03-06T16:42:29.290105Z",
     "start_time": "2023-03-06T16:42:29.283147Z"
    }
   },
   "outputs": [],
   "source": [
    "def jupyter_settings(): \n",
    "    %matplotlib inline \n",
    "    #%matplotlib notebook\n",
    "    %pylab inline\n",
    "    \n",
    "    plt.style.use('bmh')\n",
    "    plt.rcParams['figure.figsize'] = [25, 12]\n",
    "    plt.rcParams['font.size'] = 24\n",
    "    \n",
    "     \n",
    "    display( HTML( '<style>.container { width:100% !important; }</style>') )\n",
    "    pd.options.display.max_columns = None\n",
    "    pd.options.display.max_rows = None\n",
    "    pd.set_option ('display.expand_frame_repr', False)\n",
    "    \n",
    "    sns.set()\n"
   ]
  },
  {
   "cell_type": "markdown",
   "id": "28c95ac7",
   "metadata": {
    "ExecuteTime": {
     "end_time": "2022-08-19T16:06:14.996969Z",
     "start_time": "2022-08-19T16:06:14.994084Z"
    }
   },
   "source": [
    "# 1.0 Data Description"
   ]
  },
  {
   "cell_type": "code",
   "execution_count": null,
   "id": "231dafdf",
   "metadata": {},
   "outputs": [],
   "source": []
  },
  {
   "cell_type": "code",
   "execution_count": 4,
   "id": "54445576",
   "metadata": {
    "ExecuteTime": {
     "end_time": "2023-03-06T16:42:31.694766Z",
     "start_time": "2023-03-06T16:42:31.360762Z"
    }
   },
   "outputs": [
    {
     "data": {
      "text/html": [
       "<div>\n",
       "<style scoped>\n",
       "    .dataframe tbody tr th:only-of-type {\n",
       "        vertical-align: middle;\n",
       "    }\n",
       "\n",
       "    .dataframe tbody tr th {\n",
       "        vertical-align: top;\n",
       "    }\n",
       "\n",
       "    .dataframe thead th {\n",
       "        text-align: right;\n",
       "    }\n",
       "</style>\n",
       "<table border=\"1\" class=\"dataframe\">\n",
       "  <thead>\n",
       "    <tr style=\"text-align: right;\">\n",
       "      <th></th>\n",
       "      <th>user_id</th>\n",
       "      <th>timestamp</th>\n",
       "      <th>group</th>\n",
       "      <th>landing_page</th>\n",
       "      <th>converted</th>\n",
       "    </tr>\n",
       "  </thead>\n",
       "  <tbody>\n",
       "    <tr>\n",
       "      <th>0</th>\n",
       "      <td>851104</td>\n",
       "      <td>2017-01-21 22:11:48.556739</td>\n",
       "      <td>control</td>\n",
       "      <td>old_page</td>\n",
       "      <td>0</td>\n",
       "    </tr>\n",
       "    <tr>\n",
       "      <th>1</th>\n",
       "      <td>804228</td>\n",
       "      <td>2017-01-12 08:01:45.159739</td>\n",
       "      <td>control</td>\n",
       "      <td>old_page</td>\n",
       "      <td>0</td>\n",
       "    </tr>\n",
       "    <tr>\n",
       "      <th>2</th>\n",
       "      <td>661590</td>\n",
       "      <td>2017-01-11 16:55:06.154213</td>\n",
       "      <td>treatment</td>\n",
       "      <td>new_page</td>\n",
       "      <td>0</td>\n",
       "    </tr>\n",
       "    <tr>\n",
       "      <th>3</th>\n",
       "      <td>853541</td>\n",
       "      <td>2017-01-08 18:28:03.143765</td>\n",
       "      <td>treatment</td>\n",
       "      <td>new_page</td>\n",
       "      <td>0</td>\n",
       "    </tr>\n",
       "    <tr>\n",
       "      <th>4</th>\n",
       "      <td>864975</td>\n",
       "      <td>2017-01-21 01:52:26.210827</td>\n",
       "      <td>control</td>\n",
       "      <td>old_page</td>\n",
       "      <td>1</td>\n",
       "    </tr>\n",
       "  </tbody>\n",
       "</table>\n",
       "</div>"
      ],
      "text/plain": [
       "   user_id                   timestamp      group landing_page  converted\n",
       "0   851104  2017-01-21 22:11:48.556739    control     old_page          0\n",
       "1   804228  2017-01-12 08:01:45.159739    control     old_page          0\n",
       "2   661590  2017-01-11 16:55:06.154213  treatment     new_page          0\n",
       "3   853541  2017-01-08 18:28:03.143765  treatment     new_page          0\n",
       "4   864975  2017-01-21 01:52:26.210827    control     old_page          1"
      ]
     },
     "execution_count": 4,
     "metadata": {},
     "output_type": "execute_result"
    }
   ],
   "source": [
    "df_raw = pd.read_csv('/Users/adriele/Documents/repos/ab_testing/dataset/ab_data_james.csv')\n",
    "df_raw.head()"
   ]
  },
  {
   "cell_type": "code",
   "execution_count": 5,
   "id": "5f19e237",
   "metadata": {
    "ExecuteTime": {
     "end_time": "2023-03-03T13:18:21.027615Z",
     "start_time": "2023-03-03T13:18:20.901975Z"
    }
   },
   "outputs": [
    {
     "data": {
      "text/plain": [
       "user_id         0\n",
       "timestamp       0\n",
       "group           0\n",
       "landing_page    0\n",
       "converted       0\n",
       "dtype: int64"
      ]
     },
     "execution_count": 5,
     "metadata": {},
     "output_type": "execute_result"
    }
   ],
   "source": [
    "df_raw.isna().sum()"
   ]
  },
  {
   "cell_type": "code",
   "execution_count": 24,
   "id": "e95168eb",
   "metadata": {
    "ExecuteTime": {
     "end_time": "2023-03-03T13:35:45.852307Z",
     "start_time": "2023-03-03T13:35:45.691735Z"
    }
   },
   "outputs": [],
   "source": [
    "# Flags test A\n",
    "\n",
    "df_user_delete = df_raw[['user_id', 'group']].groupby( ['user_id'] ).count().reset_index().query( 'group > 1') ['user_id']\n",
    "# data without duplicates\n",
    "df1 = df_raw[~df_raw['user_id'].isin( df_user_delete )]"
   ]
  },
  {
   "cell_type": "markdown",
   "id": "92d5bc15",
   "metadata": {},
   "source": [
    "# 2.0 Experiment Design"
   ]
  },
  {
   "cell_type": "markdown",
   "id": "38677c34",
   "metadata": {},
   "source": [
    "## 2.2 Experiment Paramiter"
   ]
  },
  {
   "cell_type": "code",
   "execution_count": 25,
   "id": "b725415b",
   "metadata": {
    "ExecuteTime": {
     "end_time": "2023-03-03T13:35:57.433377Z",
     "start_time": "2023-03-03T13:35:57.430666Z"
    }
   },
   "outputs": [],
   "source": [
    "# A/B Test - paramiter\n",
    "# A/B test - Permutacao\n",
    "# Z-Test ( )\n"
   ]
  },
  {
   "cell_type": "code",
   "execution_count": 30,
   "id": "3b8ca6cc",
   "metadata": {
    "ExecuteTime": {
     "end_time": "2023-03-03T13:40:24.498721Z",
     "start_time": "2023-03-03T13:40:24.480699Z"
    }
   },
   "outputs": [
    {
     "data": {
      "text/plain": [
       "4720"
      ]
     },
     "execution_count": 30,
     "metadata": {},
     "output_type": "execute_result"
    }
   ],
   "source": [
    "# confidence level\n",
    "confidence_level = 0.95\n",
    "\n",
    "# Significance Level\n",
    "significance_level = 0.05\n",
    "\n",
    "# Convertions new and old page\n",
    "p1 = 0.13\n",
    "p2 = 0.15\n",
    "\n",
    "# effect size\n",
    "effect_size = sms.proportion_effectsize( p1, p2)\n",
    "\n",
    "# Statisc Power\n",
    "power = 0.80\n",
    "\n",
    "# Sample size\n",
    "sample_n = sms.NormalIndPower().solve_power(\n",
    "                effect_size,\n",
    "                power=power,\n",
    "                alpha=significance_level\n",
    ")\n",
    "\n",
    "sample_n = math.ceil( sample_n )\n",
    "sample_n"
   ]
  },
  {
   "cell_type": "code",
   "execution_count": 31,
   "id": "25622461",
   "metadata": {
    "ExecuteTime": {
     "end_time": "2023-03-03T13:40:26.546634Z",
     "start_time": "2023-03-03T13:40:26.474223Z"
    }
   },
   "outputs": [
    {
     "name": "stdout",
     "output_type": "stream",
     "text": [
      "Size of Control Group: 4720\n",
      "Size of Treatment Group: 4720\n"
     ]
    }
   ],
   "source": [
    "## 2.2 amostragem aleatoria\n",
    "df_control_sample = df1[df1['group'] == 'control'].sample( n=sample_n, random_state=42 )\n",
    "print ( 'Size of Control Group: {}'.format( df_control_sample.shape[0] ) )\n",
    "\n",
    "# Treatment Group\n",
    "df_treatment_sample = df1[df1['group'] == 'treatment'].sample( n=sample_n, random_state=42 )\n",
    "print ( 'Size of Treatment Group: {}'.format( df_treatment_sample.shape[0] ) )\n",
    "\n",
    "# Total Sample\n",
    "df_ab = pd.concat([ df_control_sample, df_treatment_sample] ).reset_index( drop=True )"
   ]
  },
  {
   "cell_type": "code",
   "execution_count": 37,
   "id": "e2d731f2",
   "metadata": {
    "ExecuteTime": {
     "end_time": "2023-03-03T13:44:52.948364Z",
     "start_time": "2023-03-03T13:44:52.941770Z"
    }
   },
   "outputs": [
    {
     "name": "stdout",
     "output_type": "stream",
     "text": [
      "Convertion Rate - Control Group: 0.11546610169491525\n",
      "Convertion Rate - Treatment Group: 0.12902542372881357\n"
     ]
    }
   ],
   "source": [
    "# metrics between groups\n",
    "# ======================== Group Control =========================\n",
    "sales = df_control_sample.loc[df_control_sample['converted'] == 1, 'converted'].sum()\n",
    "visit = len( df_control_sample )\n",
    "\n",
    "conversion_rate_control = sales / visit\n",
    "print ( 'Convertion Rate - Control Group: {}'.format( conversion_rate_control ))\n",
    "\n",
    "# ======================== Group Control =========================\n",
    "sales = df_treatment_sample.loc[df_treatment_sample['converted'] == 1, 'converted'].sum()\n",
    "visit = len( df_treatment_sample )\n",
    "\n",
    "conversion_rate_treatment = sales / visit\n",
    "print ( 'Convertion Rate - Treatment Group: {}'.format( conversion_rate_treatment ))\n",
    "\n",
    "\n",
    "# conversao = compradores/ visitantes\n"
   ]
  },
  {
   "cell_type": "code",
   "execution_count": null,
   "id": "2416d6f4",
   "metadata": {},
   "outputs": [],
   "source": []
  },
  {
   "cell_type": "code",
   "execution_count": null,
   "id": "c465f547",
   "metadata": {},
   "outputs": [],
   "source": []
  }
 ],
 "metadata": {
  "kernelspec": {
   "display_name": "Python 3 (ipykernel)",
   "language": "python",
   "name": "python3"
  },
  "language_info": {
   "codemirror_mode": {
    "name": "ipython",
    "version": 3
   },
   "file_extension": ".py",
   "mimetype": "text/x-python",
   "name": "python",
   "nbconvert_exporter": "python",
   "pygments_lexer": "ipython3",
   "version": "3.9.12"
  }
 },
 "nbformat": 4,
 "nbformat_minor": 5
}
