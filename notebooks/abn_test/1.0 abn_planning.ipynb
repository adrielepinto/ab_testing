{
 "cells": [
  {
   "cell_type": "markdown",
   "id": "47f11632",
   "metadata": {},
   "source": [
    "# Business Context"
   ]
  },
  {
   "cell_type": "markdown",
   "id": "2175ae65",
   "metadata": {},
   "source": [
    "Montada University in the United States has several student support services including a library.\n",
    "\n",
    "The university library offers various services to students such as renting study rooms, books, computers, group discussions, webinars, etc. All these services and several others are available on the library's own website and students can access it to schedule any service available.\n",
    "The page has a University banner, a search bar, three main access categories, a sidebar on the right that displays the latest news.\n",
    "\n",
    "During the period from April 3, 2013 to April 10, 2013, the library 'home' page received 10,819 visitors. When analyzing the page access data, the IT team and the University noticed a big difference between the accesses of the page category. The click-through rate for 'Find' was 35%, 'Request' was 6%, and 'Interect' was 2%.\n",
    "\n",
    "Looking at the click-through rates, the IT team wondered why interest category conversion was so low.\n",
    "\n",
    "One of the hypotheses of tay's team was that the name 'Interect' is confusing students, as it does not make clear the purpose of that category. So four new names were proposed to replace the current category name: 'Connect' , 'learn', 'Help', 'Service'.\n",
    "With the category name variations an A/B/N test needs to be defined to validate which of the variations makes the category more understandable and attractive to students, with the expectation of increasing the click-through rate of that category.\n",
    "\n",
    "Thus an AB and neither test was carried out for three weeks and between May 29, 2013 and June 18, 2013. The experiment was designed to ensure that the user accesses any of the variations with the same probability"
   ]
  },
  {
   "cell_type": "markdown",
   "id": "2457785c",
   "metadata": {},
   "source": [
    "# Business Challange"
   ]
  },
  {
   "cell_type": "markdown",
   "id": "efa19cba",
   "metadata": {},
   "source": [
    "You've been hired as a freelancer by the University of Montana to help the IT team validate data from variations on the library's \"home\" page and tell whether any of the variations are really better than the current one. If so, which of the variations would be better and should replace the current category name.\n",
    "\n",
    "The deliverables of your work are as follows:\n",
    "\n",
    "\n",
    "-   Are any of the conversions really better than the current one? What would the name of the variation be?"
   ]
  },
  {
   "cell_type": "markdown",
   "id": "1d03e902",
   "metadata": {},
   "source": [
    "# Solution Plan"
   ]
  },
  {
   "cell_type": "markdown",
   "id": "4742beab",
   "metadata": {},
   "source": [
    "1.0 Apply the method IOT.\n",
    "Imput:\n",
    "- Dataset;\n",
    "- Business Plan;\n",
    "    \n",
    "Tesks:\n",
    "\n",
    "    - Hyphotesis Tests;\n",
    "    - Define the type of statistical inference method ( ANOVA, T-Test, Chi-Squared);\n",
    "    - Experiment Planning: Hyphotesis, Sample size, Expected Effect.\n",
    "\n",
    "Output:\n",
    "\n",
    "    - Text.  \n",
    "    \n",
    "- 1.0 Experiment Designer;\n",
    "- 2.0 Criate Hyphotesis to test;\n",
    "- 3.0 Define a metric;\n",
    "- 4.0 load the dataset;\n",
    "- 5.0 Data cleaning;\n",
    "- 6.0 Descriptive Analysis;\n",
    "- 7.0 Exploratory Data Anaysis;\n",
    "- 8.0 Hyphotesis Test( apply a test tecnic of statistical inference);\n",
    "- 9.0 Conclusion;\n",
    "- 10.0 Sugest which is the best variation."
   ]
  },
  {
   "cell_type": "code",
   "execution_count": null,
   "id": "17b415f2",
   "metadata": {},
   "outputs": [],
   "source": []
  },
  {
   "cell_type": "code",
   "execution_count": null,
   "id": "f8f6a74c",
   "metadata": {},
   "outputs": [],
   "source": []
  }
 ],
 "metadata": {
  "kernelspec": {
   "display_name": "Python 3 (ipykernel)",
   "language": "python",
   "name": "python3"
  },
  "language_info": {
   "codemirror_mode": {
    "name": "ipython",
    "version": 3
   },
   "file_extension": ".py",
   "mimetype": "text/x-python",
   "name": "python",
   "nbconvert_exporter": "python",
   "pygments_lexer": "ipython3",
   "version": "3.9.12"
  }
 },
 "nbformat": 4,
 "nbformat_minor": 5
}
