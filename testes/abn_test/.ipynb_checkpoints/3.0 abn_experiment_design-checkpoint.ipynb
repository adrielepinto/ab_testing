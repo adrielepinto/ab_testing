{
 "cells": [
  {
   "cell_type": "markdown",
   "id": "47f11632",
   "metadata": {},
   "source": [
    "# Business Context"
   ]
  },
  {
   "cell_type": "markdown",
   "id": "2175ae65",
   "metadata": {},
   "source": [
    "Montada University in the United States has several student support services including a library.\n",
    "\n",
    "The university library offers various services to students such as renting study rooms, books, computers, group discussions, webinars, etc. All these services and several others are available on the library's own website and students can access it to schedule any service available.\n",
    "The page has a University banner, a search bar, three main access categories, a sidebar on the right that displays the latest news.\n",
    "\n",
    "During the period from April 3, 2013 to April 10, 2013, the library 'home' page received 10,819 visitors. When analyzing the page access data, the IT team and the University noticed a big difference between the accesses of the page category. The click-through rate for 'Find' was 35%, 'Request' was 6%, and 'Interect' was 2%.\n",
    "\n",
    "Looking at the click-through rates, the IT team wondered why interest category conversion was so low.\n",
    "\n",
    "One of the hypotheses of tay's team was that the name 'Interect' is confusing students, as it does not make clear the purpose of that category. So four new names were proposed to replace the current category name: 'Connect' , 'learn', 'Help', 'Service'.\n",
    "With the category name variations an A/B/N test needs to be defined to validate which of the variations makes the category more understandable and attractive to students, with the expectation of increasing the click-through rate of that category.\n",
    "\n",
    "Thus an AB and neither test was carried out for three weeks and between May 29, 2013 and June 18, 2013. The experiment was designed to ensure that the user accesses any of the variations with the same probability"
   ]
  },
  {
   "cell_type": "markdown",
   "id": "2457785c",
   "metadata": {},
   "source": [
    "# Business Challange"
   ]
  },
  {
   "cell_type": "markdown",
   "id": "efa19cba",
   "metadata": {},
   "source": [
    "You've been hired as a freelancer by the University of Montana to help the IT team validate data from variations on the library's \"home\" page and tell whether any of the variations are really better than the current one. If so, which of the variations would be better and should replace the current category name.\n",
    "\n",
    "The deliverables of your work are as follows:\n",
    "\n",
    "\n",
    "-   Are any of the conversions really better than the current one? What would the name of the variation be?"
   ]
  },
  {
   "cell_type": "markdown",
   "id": "1d03e902",
   "metadata": {},
   "source": [
    "# Solution Plan"
   ]
  },
  {
   "cell_type": "markdown",
   "id": "4742beab",
   "metadata": {},
   "source": [
    "1.0 Apply the method IOT.\n",
    "Imput:\n",
    "- Dataset;\n",
    "- Business Plan;\n",
    "    \n",
    "Tesks:\n",
    "\n",
    "    - Hyphotesis Tests;\n",
    "    - Define the type of statistical inference method ( ANOVA, T-Test, Chi-Squared);\n",
    "    - Experiment Planning: Hyphotesis, Sample size, Expected Effect.\n",
    "\n",
    "Output:\n",
    "\n",
    "    - Text.  \n",
    "    \n",
    "- 1.0 Experiment Designer;\n",
    "- 2.0 Criate Hyphotesis to test;\n",
    "- 3.0 Define a metric;\n",
    "- 4.0 load the dataset;\n",
    "- 5.0 Data cleaning;\n",
    "- 6.0 Descriptive Analysis;\n",
    "- 7.0 Exploratory Data Anaysis;\n",
    "- 8.0 Hyphotesis Test( apply a test tecnic of statistical inference);\n",
    "- 9.0 Conclusion;\n",
    "- 10.0 Sugest which is the best variation."
   ]
  },
  {
   "cell_type": "markdown",
   "id": "694eb0c9",
   "metadata": {},
   "source": [
    "# 0.1 Imports"
   ]
  },
  {
   "cell_type": "code",
   "execution_count": 61,
   "id": "f8f6a74c",
   "metadata": {
    "ExecuteTime": {
     "end_time": "2023-03-07T15:34:15.358992Z",
     "start_time": "2023-03-07T15:34:15.275908Z"
    }
   },
   "outputs": [],
   "source": [
    "import pandas as pd\n",
    "import numpy as np\n",
    "\n",
    "import scipy.stats as stats\n",
    "\n",
    "\n",
    "from itertools import combinations\n",
    "from statsmodels.stats.gof import chisquare_effectsize\n",
    "from statsmodels.stats.power import GofChisquarePower, TTestIndPower\n",
    "from statsmodels.sandbox.stats.multicomp import multipletests\n"
   ]
  },
  {
   "cell_type": "markdown",
   "id": "fbb1cf9d",
   "metadata": {},
   "source": [
    "# 1.0 Load dataset"
   ]
  },
  {
   "cell_type": "code",
   "execution_count": 45,
   "id": "09781b38",
   "metadata": {
    "ExecuteTime": {
     "end_time": "2023-03-07T15:17:16.991443Z",
     "start_time": "2023-03-07T15:17:16.979539Z"
    }
   },
   "outputs": [
    {
     "data": {
      "text/html": [
       "<div>\n",
       "<style scoped>\n",
       "    .dataframe tbody tr th:only-of-type {\n",
       "        vertical-align: middle;\n",
       "    }\n",
       "\n",
       "    .dataframe tbody tr th {\n",
       "        vertical-align: top;\n",
       "    }\n",
       "\n",
       "    .dataframe thead th {\n",
       "        text-align: right;\n",
       "    }\n",
       "</style>\n",
       "<table border=\"1\" class=\"dataframe\">\n",
       "  <thead>\n",
       "    <tr style=\"text-align: right;\">\n",
       "      <th></th>\n",
       "      <th>variant</th>\n",
       "      <th>visits</th>\n",
       "      <th>clicks_all</th>\n",
       "      <th>click_link</th>\n",
       "      <th>conversion</th>\n",
       "    </tr>\n",
       "  </thead>\n",
       "  <tbody>\n",
       "    <tr>\n",
       "      <th>0</th>\n",
       "      <td>interact</td>\n",
       "      <td>10283</td>\n",
       "      <td>3714</td>\n",
       "      <td>42</td>\n",
       "      <td>0.011309</td>\n",
       "    </tr>\n",
       "    <tr>\n",
       "      <th>1</th>\n",
       "      <td>connect</td>\n",
       "      <td>2752</td>\n",
       "      <td>1587</td>\n",
       "      <td>53</td>\n",
       "      <td>0.033396</td>\n",
       "    </tr>\n",
       "    <tr>\n",
       "      <th>2</th>\n",
       "      <td>learn</td>\n",
       "      <td>2747</td>\n",
       "      <td>1652</td>\n",
       "      <td>21</td>\n",
       "      <td>0.012712</td>\n",
       "    </tr>\n",
       "    <tr>\n",
       "      <th>3</th>\n",
       "      <td>help</td>\n",
       "      <td>3180</td>\n",
       "      <td>1717</td>\n",
       "      <td>38</td>\n",
       "      <td>0.022132</td>\n",
       "    </tr>\n",
       "    <tr>\n",
       "      <th>4</th>\n",
       "      <td>services</td>\n",
       "      <td>2064</td>\n",
       "      <td>1348</td>\n",
       "      <td>45</td>\n",
       "      <td>0.033383</td>\n",
       "    </tr>\n",
       "  </tbody>\n",
       "</table>\n",
       "</div>"
      ],
      "text/plain": [
       "    variant  visits  clicks_all  click_link  conversion\n",
       "0  interact   10283        3714          42    0.011309\n",
       "1   connect    2752        1587          53    0.033396\n",
       "2     learn    2747        1652          21    0.012712\n",
       "3      help    3180        1717          38    0.022132\n",
       "4  services    2064        1348          45    0.033383"
      ]
     },
     "execution_count": 45,
     "metadata": {},
     "output_type": "execute_result"
    }
   ],
   "source": [
    "d = { 'variant': [ 'interact', 'connect', 'learn', 'help', 'services'],\n",
    "      'visits' : [ 10283, 2752, 2747, 3180, 2064 ],\n",
    "      'clicks_all' :[ 3714, 1587, 1652, 1717, 1348 ],\n",
    "      'click_link' :[ 42, 53, 21, 38, 45 ] }\n",
    "data = pd.DataFrame( d )\n",
    "data['conversion'] = data['click_link'] / data['clicks_all']\n",
    "data"
   ]
  },
  {
   "cell_type": "markdown",
   "id": "7fffdba1",
   "metadata": {},
   "source": [
    "# 2.0 Experiment Design"
   ]
  },
  {
   "cell_type": "markdown",
   "id": "56d479aa",
   "metadata": {},
   "source": [
    "## 2.1 Hyphotesis"
   ]
  },
  {
   "cell_type": "code",
   "execution_count": 46,
   "id": "1f38d609",
   "metadata": {
    "ExecuteTime": {
     "end_time": "2023-03-07T15:17:18.155385Z",
     "start_time": "2023-03-07T15:17:18.152314Z"
    }
   },
   "outputs": [],
   "source": [
    "# H0: There isn't any diferrence between  the variance CTR of the page.\n",
    "# H1: There is diferrence between  the variance CTR of the page.\n",
    "\n",
    "# Bi-Caudal Test"
   ]
  },
  {
   "cell_type": "markdown",
   "id": "5cc4655b",
   "metadata": {},
   "source": [
    "## 2.2 Experiment Parameters"
   ]
  },
  {
   "cell_type": "code",
   "execution_count": 47,
   "id": "faea0337",
   "metadata": {
    "ExecuteTime": {
     "end_time": "2023-03-07T15:17:18.989743Z",
     "start_time": "2023-03-07T15:17:18.985713Z"
    }
   },
   "outputs": [],
   "source": [
    "k = len( data['clicks_all'] )\n",
    "actual_dist = data['clicks_all'] / data['clicks_all'].sum()\n",
    "expected_dist = [ 1 / k ]*k"
   ]
  },
  {
   "cell_type": "code",
   "execution_count": 48,
   "id": "f9ff3847",
   "metadata": {
    "ExecuteTime": {
     "end_time": "2023-03-07T15:17:19.195086Z",
     "start_time": "2023-03-07T15:17:19.179416Z"
    },
    "code_folding": []
   },
   "outputs": [
    {
     "name": "stdout",
     "output_type": "stream",
     "text": [
      "Minimum Sample Size per Variant:59\n",
      "Total Sample Size:295\n"
     ]
    }
   ],
   "source": [
    "effect_size = chisquare_effectsize( expected_dist, actual_dist)\n",
    "alpha = 0.05\n",
    "power = 0.80\n",
    "\n",
    "\n",
    "sample_size = GofChisquarePower().solve_power(\n",
    "    effect_size = effect_size,\n",
    "    alpha = alpha,\n",
    "    power = power,\n",
    "    n_bins = ( 2 - 1 )*( 5 -1 )\n",
    ")\n",
    "\n",
    "\n",
    "sample_size = np.ceil( sample_size ).astype( int )\n",
    "print( 'Minimum Sample Size per Variant:{}'.format( sample_size ) )\n",
    "print( 'Total Sample Size:{}'.format( k * sample_size ) )\n"
   ]
  },
  {
   "cell_type": "markdown",
   "id": "39238fae",
   "metadata": {},
   "source": [
    "# 3.0 Chi Squared Testing"
   ]
  },
  {
   "cell_type": "code",
   "execution_count": 52,
   "id": "37c9c338",
   "metadata": {
    "ExecuteTime": {
     "end_time": "2023-03-07T15:19:15.497499Z",
     "start_time": "2023-03-07T15:19:15.489042Z"
    }
   },
   "outputs": [],
   "source": [
    "data['no_click_link'] =  data['clicks_all'] - data['click_link']\n",
    "df = data[['variant',  'click_link', 'no_click_link' ]]\n",
    "df = df.set_index( 'variant' )"
   ]
  },
  {
   "cell_type": "code",
   "execution_count": 55,
   "id": "26ef58d6",
   "metadata": {
    "ExecuteTime": {
     "end_time": "2023-03-07T15:22:39.890037Z",
     "start_time": "2023-03-07T15:22:39.885529Z"
    }
   },
   "outputs": [
    {
     "name": "stdout",
     "output_type": "stream",
     "text": [
      "Chi Squared:46.33660181942126\n"
     ]
    }
   ],
   "source": [
    "chi2, p_value, dof, ex = stats.chi2_contingency(df)\n",
    "print( 'Chi Squared:{}'.format( chi2, p_value))"
   ]
  },
  {
   "cell_type": "markdown",
   "id": "de2faa15",
   "metadata": {},
   "source": [
    "# 4.0 Post-Hoc Testing"
   ]
  },
  {
   "cell_type": "code",
   "execution_count": 70,
   "id": "d957ea36",
   "metadata": {
    "ExecuteTime": {
     "end_time": "2023-03-07T15:45:10.390115Z",
     "start_time": "2023-03-07T15:45:10.377969Z"
    }
   },
   "outputs": [],
   "source": [
    "all_combinations = list( combinations( df.index, 2 ) )\n",
    "p_values = []\n",
    "\n",
    "for comb in all_combinations:\n",
    "    new_df = df[( df.index ==comb[0]) | ( df.index == comb[1] ) ]\n",
    "    chi2, p_value, dof, ex = stats.chi2_contingency( new_df )\n",
    "    p_values.append( p_value )\n",
    "    \n",
    "    \n",
    "   \n",
    "    \n",
    "    \n",
    "# Correction pf BonFerroni\n",
    "\n",
    "reject_list, corrected_p_values, _ , _ = multipletests( p_values, method='bonferroni' )"
   ]
  },
  {
   "cell_type": "code",
   "execution_count": 71,
   "id": "f7219295",
   "metadata": {
    "ExecuteTime": {
     "end_time": "2023-03-07T15:45:10.852067Z",
     "start_time": "2023-03-07T15:45:10.846540Z"
    }
   },
   "outputs": [
    {
     "name": "stdout",
     "output_type": "stream",
     "text": [
      "\n",
      "('interact', 'connect'): P_value:5.3676772349808135e-08; Corrected_p_Value:5.367677234980813e-07; Reject:True\n",
      "\n",
      "('interact', 'learn'): P_value:0.7616980743361713; Corrected_p_Value:1.0; Reject:False\n",
      "\n",
      "('interact', 'help'): P_value:0.0031030587017400212; Corrected_p_Value:0.03103058701740021; Reject:True\n",
      "\n",
      "('interact', 'services'): P_value:1.798089447385411e-07; Corrected_p_Value:1.7980894473854111e-06; Reject:True\n",
      "\n",
      "('connect', 'learn'): P_value:0.00013292868361715983; Corrected_p_Value:0.0013292868361715984; Reject:True\n",
      "\n",
      "('connect', 'help'): P_value:0.06144184057612575; Corrected_p_Value:0.6144184057612575; Reject:False\n",
      "\n",
      "('connect', 'services'): P_value:1.0; Corrected_p_Value:1.0; Reject:False\n",
      "\n",
      "('learn', 'help'): P_value:0.0508958228881819; Corrected_p_Value:0.5089582288818191; Reject:False\n",
      "\n",
      "('learn', 'services'): P_value:0.00020374035733741825; Corrected_p_Value:0.0020374035733741825; Reject:True\n",
      "\n",
      "('help', 'services'): P_value:0.07301998638337415; Corrected_p_Value:0.7301998638337415; Reject:False\n"
     ]
    }
   ],
   "source": [
    "for comb, p_val, corr_p_val, reject in zip (all_combinations,p_values, corrected_p_values, reject_list ):\n",
    "    print( '\\n{}: P_value:{}; Corrected_p_Value:{}; Reject:{}'.format( comb, p_val, corr_p_val, reject ) )"
   ]
  },
  {
   "cell_type": "code",
   "execution_count": 72,
   "id": "03312081",
   "metadata": {
    "ExecuteTime": {
     "end_time": "2023-03-07T15:49:09.604382Z",
     "start_time": "2023-03-07T15:49:09.601709Z"
    }
   },
   "outputs": [],
   "source": [
    "# Interact x Connect == There is a correlation, difference = p_value == 5.3676772349808135\n",
    "# Interact x Service == There is a correlation, difference = p_value == 1.798089447385411\n",
    "# Interact x Help== There is a correlation, difference = p_value == 0.0031030587017400212\n",
    "\n",
    "# Connect x Help == There is no correlation, difference \n",
    "# Connect x Service == There is no correlation, difference \n",
    "# Help x Services == There is no correlation, difference "
   ]
  },
  {
   "cell_type": "code",
   "execution_count": null,
   "id": "754bbe6c",
   "metadata": {},
   "outputs": [],
   "source": []
  }
 ],
 "metadata": {
  "kernelspec": {
   "display_name": "Python 3 (ipykernel)",
   "language": "python",
   "name": "python3"
  },
  "language_info": {
   "codemirror_mode": {
    "name": "ipython",
    "version": 3
   },
   "file_extension": ".py",
   "mimetype": "text/x-python",
   "name": "python",
   "nbconvert_exporter": "python",
   "pygments_lexer": "ipython3",
   "version": "3.9.12"
  }
 },
 "nbformat": 4,
 "nbformat_minor": 5
}
