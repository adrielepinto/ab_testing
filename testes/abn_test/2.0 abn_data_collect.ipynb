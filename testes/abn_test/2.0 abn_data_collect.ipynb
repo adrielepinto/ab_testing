{
 "cells": [
  {
   "cell_type": "markdown",
   "id": "47f11632",
   "metadata": {},
   "source": [
    "# Business Context"
   ]
  },
  {
   "cell_type": "markdown",
   "id": "2175ae65",
   "metadata": {},
   "source": [
    "Montada University in the United States has several student support services including a library.\n",
    "\n",
    "The university library offers various services to students such as renting study rooms, books, computers, group discussions, webinars, etc. All these services and several others are available on the library's own website and students can access it to schedule any service available.\n",
    "The page has a University banner, a search bar, three main access categories, a sidebar on the right that displays the latest news.\n",
    "\n",
    "During the period from April 3, 2013 to April 10, 2013, the library 'home' page received 10,819 visitors. When analyzing the page access data, the IT team and the University noticed a big difference between the accesses of the page category. The click-through rate for 'Find' was 35%, 'Request' was 6%, and 'Interect' was 2%.\n",
    "\n",
    "Looking at the click-through rates, the IT team wondered why interest category conversion was so low.\n",
    "\n",
    "One of the hypotheses of tay's team was that the name 'Interect' is confusing students, as it does not make clear the purpose of that category. So four new names were proposed to replace the current category name: 'Connect' , 'learn', 'Help', 'Service'.\n",
    "With the category name variations an A/B/N test needs to be defined to validate which of the variations makes the category more understandable and attractive to students, with the expectation of increasing the click-through rate of that category.\n",
    "\n",
    "Thus an AB and neither test was carried out for three weeks and between May 29, 2013 and June 18, 2013. The experiment was designed to ensure that the user accesses any of the variations with the same probability"
   ]
  },
  {
   "cell_type": "markdown",
   "id": "2457785c",
   "metadata": {},
   "source": [
    "# Business Challange"
   ]
  },
  {
   "cell_type": "markdown",
   "id": "efa19cba",
   "metadata": {},
   "source": [
    "You've been hired as a freelancer by the University of Montana to help the IT team validate data from variations on the library's \"home\" page and tell whether any of the variations are really better than the current one. If so, which of the variations would be better and should replace the current category name.\n",
    "\n",
    "The deliverables of your work are as follows:\n",
    "\n",
    "\n",
    "-   Are any of the conversions really better than the current one? What would the name of the variation be?"
   ]
  },
  {
   "cell_type": "markdown",
   "id": "1d03e902",
   "metadata": {},
   "source": [
    "# Solution Plan"
   ]
  },
  {
   "cell_type": "markdown",
   "id": "4742beab",
   "metadata": {},
   "source": [
    "1.0 Apply the method IOT.\n",
    "Imput:\n",
    "- Dataset;\n",
    "- Business Plan;\n",
    "    \n",
    "Tesks:\n",
    "\n",
    "    - Hyphotesis Tests;\n",
    "    - Define the type of statistical inference method ( ANOVA, T-Test, Chi-Squared);\n",
    "    - Experiment Planning: Hyphotesis, Sample size, Expected Effect.\n",
    "\n",
    "Output:\n",
    "\n",
    "    - Text.  \n",
    "    \n",
    "- 1.0 Experiment Designer;\n",
    "- 2.0 Criate Hyphotesis to test;\n",
    "- 3.0 Define a metric;\n",
    "- 4.0 load the dataset;\n",
    "- 5.0 Data cleaning;\n",
    "- 6.0 Descriptive Analysis;\n",
    "- 7.0 Exploratory Data Anaysis;\n",
    "- 8.0 Hyphotesis Test( apply a test tecnic of statistical inference);\n",
    "- 9.0 Conclusion;\n",
    "- 10.0 Sugest which is the best variation."
   ]
  },
  {
   "cell_type": "markdown",
   "id": "694eb0c9",
   "metadata": {},
   "source": [
    "# 0.1 Imports"
   ]
  },
  {
   "cell_type": "code",
   "execution_count": 16,
   "id": "f8f6a74c",
   "metadata": {
    "ExecuteTime": {
     "end_time": "2023-03-06T21:20:44.864183Z",
     "start_time": "2023-03-06T21:20:44.859373Z"
    }
   },
   "outputs": [],
   "source": [
    "import pandas as pd\n",
    "import numpy as np\n",
    "\n",
    "from statsmodels.stats.gof import chisquare_effectsize\n",
    "from statsmodels.stats.power import GofChisquarePower"
   ]
  },
  {
   "cell_type": "markdown",
   "id": "fbb1cf9d",
   "metadata": {},
   "source": [
    "# 1.0 Load dataset"
   ]
  },
  {
   "cell_type": "code",
   "execution_count": 23,
   "id": "09781b38",
   "metadata": {
    "ExecuteTime": {
     "end_time": "2023-03-06T21:25:28.778087Z",
     "start_time": "2023-03-06T21:25:28.761397Z"
    }
   },
   "outputs": [
    {
     "data": {
      "text/html": [
       "<div>\n",
       "<style scoped>\n",
       "    .dataframe tbody tr th:only-of-type {\n",
       "        vertical-align: middle;\n",
       "    }\n",
       "\n",
       "    .dataframe tbody tr th {\n",
       "        vertical-align: top;\n",
       "    }\n",
       "\n",
       "    .dataframe thead th {\n",
       "        text-align: right;\n",
       "    }\n",
       "</style>\n",
       "<table border=\"1\" class=\"dataframe\">\n",
       "  <thead>\n",
       "    <tr style=\"text-align: right;\">\n",
       "      <th></th>\n",
       "      <th>variant</th>\n",
       "      <th>visits</th>\n",
       "      <th>clicks_all</th>\n",
       "      <th>click_link</th>\n",
       "      <th>conversion</th>\n",
       "    </tr>\n",
       "  </thead>\n",
       "  <tbody>\n",
       "    <tr>\n",
       "      <th>0</th>\n",
       "      <td>interact</td>\n",
       "      <td>10283</td>\n",
       "      <td>3714</td>\n",
       "      <td>42</td>\n",
       "      <td>0.011309</td>\n",
       "    </tr>\n",
       "    <tr>\n",
       "      <th>1</th>\n",
       "      <td>connect</td>\n",
       "      <td>2752</td>\n",
       "      <td>1587</td>\n",
       "      <td>53</td>\n",
       "      <td>0.033396</td>\n",
       "    </tr>\n",
       "    <tr>\n",
       "      <th>2</th>\n",
       "      <td>learn</td>\n",
       "      <td>2747</td>\n",
       "      <td>1652</td>\n",
       "      <td>21</td>\n",
       "      <td>0.012712</td>\n",
       "    </tr>\n",
       "    <tr>\n",
       "      <th>3</th>\n",
       "      <td>help</td>\n",
       "      <td>3180</td>\n",
       "      <td>1717</td>\n",
       "      <td>38</td>\n",
       "      <td>0.022132</td>\n",
       "    </tr>\n",
       "    <tr>\n",
       "      <th>4</th>\n",
       "      <td>services</td>\n",
       "      <td>2064</td>\n",
       "      <td>1348</td>\n",
       "      <td>45</td>\n",
       "      <td>0.033383</td>\n",
       "    </tr>\n",
       "  </tbody>\n",
       "</table>\n",
       "</div>"
      ],
      "text/plain": [
       "    variant  visits  clicks_all  click_link  conversion\n",
       "0  interact   10283        3714          42    0.011309\n",
       "1   connect    2752        1587          53    0.033396\n",
       "2     learn    2747        1652          21    0.012712\n",
       "3      help    3180        1717          38    0.022132\n",
       "4  services    2064        1348          45    0.033383"
      ]
     },
     "execution_count": 23,
     "metadata": {},
     "output_type": "execute_result"
    }
   ],
   "source": [
    "d = { 'variant': [ 'interact', 'connect', 'learn', 'help', 'services'],\n",
    "      'visits' : [ 10283, 2752, 2747, 3180, 2064 ],\n",
    "      'clicks_all' :[ 3714, 1587, 1652, 1717, 1348 ],\n",
    "      'click_link' :[ 42, 53, 21, 38, 45 ] }\n",
    "data = pd.DataFrame( d )\n",
    "data['conversion'] = data['click_link'] / data['clicks_all']\n",
    "data"
   ]
  },
  {
   "cell_type": "markdown",
   "id": "5cc4655b",
   "metadata": {},
   "source": [
    "# Experiment Parameters"
   ]
  },
  {
   "cell_type": "code",
   "execution_count": 18,
   "id": "faea0337",
   "metadata": {
    "ExecuteTime": {
     "end_time": "2023-03-06T21:20:45.933011Z",
     "start_time": "2023-03-06T21:20:45.927313Z"
    }
   },
   "outputs": [],
   "source": [
    "k = len( data['clicks_all'] )\n",
    "actual_dist = data['clicks_all'] / data['clicks_all'].sum()\n",
    "expected_dist = [ 1 / k ]*k"
   ]
  },
  {
   "cell_type": "code",
   "execution_count": 22,
   "id": "f9ff3847",
   "metadata": {
    "ExecuteTime": {
     "end_time": "2023-03-06T21:21:32.197685Z",
     "start_time": "2023-03-06T21:21:32.182595Z"
    },
    "code_folding": []
   },
   "outputs": [
    {
     "name": "stdout",
     "output_type": "stream",
     "text": [
      "Minimum Sample Size per Variant:59\n",
      "Total Sample Size:295\n"
     ]
    }
   ],
   "source": [
    "effect_size = chisquare_effectsize( expected_dist, actual_dist)\n",
    "alpha = 0.05\n",
    "power = 0.80\n",
    "\n",
    "\n",
    "sample_size = GofChisquarePower().solve_power(\n",
    "    effect_size = effect_size,\n",
    "    alpha = alpha,\n",
    "    power = power,\n",
    "    n_bins = ( 2 - 1 )*( 5 -1 )\n",
    ")\n",
    "\n",
    "\n",
    "sample_size = np.ceil( sample_size ).astype( int )\n",
    "print( 'Minimum Sample Size per Variant:{}'.format( sample_size ) )\n",
    "print( 'Total Sample Size:{}'.format( k * sample_size ) )\n"
   ]
  },
  {
   "cell_type": "code",
   "execution_count": null,
   "id": "0bd85b7b",
   "metadata": {},
   "outputs": [],
   "source": []
  },
  {
   "cell_type": "code",
   "execution_count": null,
   "id": "37c9c338",
   "metadata": {},
   "outputs": [],
   "source": []
  },
  {
   "cell_type": "code",
   "execution_count": null,
   "id": "26ef58d6",
   "metadata": {},
   "outputs": [],
   "source": []
  }
 ],
 "metadata": {
  "kernelspec": {
   "display_name": "Python 3 (ipykernel)",
   "language": "python",
   "name": "python3"
  },
  "language_info": {
   "codemirror_mode": {
    "name": "ipython",
    "version": 3
   },
   "file_extension": ".py",
   "mimetype": "text/x-python",
   "name": "python",
   "nbconvert_exporter": "python",
   "pygments_lexer": "ipython3",
   "version": "3.9.12"
  }
 },
 "nbformat": 4,
 "nbformat_minor": 5
}
