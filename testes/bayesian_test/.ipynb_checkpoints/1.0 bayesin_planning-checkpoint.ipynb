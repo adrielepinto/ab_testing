{
 "cells": [
  {
   "cell_type": "markdown",
   "id": "d7b7196b",
   "metadata": {},
   "source": [
    " # Business Context"
   ]
  },
  {
   "cell_type": "markdown",
   "id": "d9face4c",
   "metadata": {},
   "source": [
    "The company ISketch located in São Paulo, manufactures and provides software focused on the development of 3D projects for civil construction, as a way of prototyping large projects. \n",
    "\n",
    "To use the software, the customer needs a user license that is renewed annually.\n",
    "\n",
    "One of the company's best customer acquisition strategies is capturing customers' e-mails in exchange for a newsletter with weekly content on civil construction.Subscribing to the Newsletters allows starting a relationship between ISketch and people, in order to show the advantages of using the software to create civil construction prototypes. \n",
    "\n",
    "Therefore, improving the conversion of the e-mail capture page, offering the newsletter in exchange, is crucial for increasing the number of customers.\n",
    "\n",
    "Therefore, the company's Marketing coordinator asked the team of designers to create a new email capture page with a small change in the colors of the “sign up” button, in order to increase page conversion.\n",
    "\n",
    "The design team created a page with a red sign up button to test against the current page with a blue sign up button. The Marketing coordinator is in a hurry to test the new page, as the company has been acquiring few customers in recent weeks and this could compromise the company's annual revenue.\n",
    "\n",
    "The company's team of data scientists was called in with the mission to test the new email capture page as soon as possible. \n",
    "\n",
    "The first idea was to plan an A/B test experiment between the two pages over a period of 7 days, to conclude the affectivity of the button color changes. However, the Marketing coordinator categorically told the data team that he couldn't wait 7 days and requested that I complete it in less time."
   ]
  },
  {
   "cell_type": "markdown",
   "id": "eb3585cc",
   "metadata": {},
   "source": [
    "# Business Challange"
   ]
  },
  {
   "cell_type": "markdown",
   "id": "4b787d35",
   "metadata": {},
   "source": [
    "\n",
    "\n",
    "I was assigned to the validation project in the new page layout, along with the marketing team, in order to help evaluate the new capture page. The Marketing team hopes that you will be able to conclude whether the conversion of the new page is really better, worse or equal to the conversion of the current page and in less than seven days.\n"
   ]
  },
  {
   "cell_type": "markdown",
   "id": "b14061db",
   "metadata": {},
   "source": [
    "# Solution Planning"
   ]
  },
  {
   "cell_type": "markdown",
   "id": "1d19d061",
   "metadata": {},
   "source": [
    "1.0 Apply the method IOT.\n",
    "Imput:\n",
    "- Dataset;\n",
    "- Business Plan;\n",
    "    \n",
    "Tesks:\n",
    "\n",
    "    - Hyphotesis Tests;\n",
    "    - Define the type of statistical inference method ( ANOVA, T-Test, Chi-Squared);\n",
    "    - Experiment Planning: Hyphotesis, Sample size, Expected Effect.\n",
    "\n",
    "Output:\n",
    "\n",
    "    - Text.  \n",
    "    \n",
    "- 1.0 Experiment Designer;\n",
    "- 2.0 Criate Hyphotesis to test;\n",
    "- 3.0 Define a metric;\n",
    "- 4.0 load the dataset;\n",
    "- 5.0 Data cleaning;\n",
    "- 6.0 Descriptive Analysis;\n",
    "- 7.0 Exploratory Data Anaysis;\n",
    "- 8.0 Hyphotesis Test( apply a test tecnic of statistical inference);\n",
    "- 9.0 Conclusion;\n",
    "- 10.0 Sugest which is the best variation."
   ]
  },
  {
   "cell_type": "code",
   "execution_count": null,
   "id": "809e4442",
   "metadata": {},
   "outputs": [],
   "source": [
    "# <html>\n",
    "\n",
    "    <head>\n",
    "    \n",
    "        <style>\n",
    "            @import url( http://fonts.googleapis.com/css?family=Amatic+SC:700 );\n",
    "            body{ text-align: center;}\n",
    "            h1{ font-family: 'Amatic SC', 'cursive';\n",
    "                font-weight: normal;\n",
    "                color: #8ac640;\n",
    "                font-size: 2.5em;\n",
    "              }\n",
    "            \n",
    "            #yesbtn { backgroug-color: #008CBA;\n",
    "                    border: none;\n",
    "                    color: white;\n",
    "                    padding: 15px 32px;\n",
    "                    text-align: center;\n",
    "                    text-decoration: none;\n",
    "                    display: inline-block;\n",
    "                    font-size: 16px;\n",
    "            }\n",
    "            \n",
    "            \n",
    "            #nobtn { background-color: #4CAF50;\n",
    "                    border: none;\n",
    "                    color: white;\n",
    "                    padding: 15px 32px;\n",
    "                    text-align: center;\n",
    "                    text-decoration: none;\n",
    "                    display: inline-block;\n",
    "                    font-size: 16px;\n",
    "            }\n",
    "                        \n",
    "        </style>\n",
    "        \n",
    "    </head>       \n",
    "            <body>\n",
    "                \n",
    "                <div class='block1'>\n",
    "                    <h1> Get to know evething about prototyping built.</h1>\n",
    "                    <h2> Sign up our Newsletter.</h2>\n",
    "                    <h3>  Clik on the button now.</h3>\n",
    " \n",
    "                    <form action='/yes' method='post'>\n",
    "                            <input type='checkbox' name='yescheckbox' value='yes'>\n",
    "                            <button id='yesbtn' name='forwardbtn' type='submit' class='block'> Yes </button>\n",
    " \n",
    "                    </form>\n",
    "    \n",
    "                    <form action='/no' method='post'>\n",
    "                            <input type='checkbox' name='nocheckbox' value='no'>\n",
    "                            <button id='nobtn' name='forwardbtn' type='submit' class='block'> No </button>\n",
    " \n",
    "                    </form>\n",
    "    \n",
    "                    </div>\n",
    " \n",
    "                <body>\n",
    "    \n",
    "           </Style>\n",
    "        \n",
    "        </head>\n",
    "        \n",
    "</html>\n",
    " \n"
   ]
  },
  {
   "cell_type": "markdown",
   "id": "e62a9931",
   "metadata": {},
   "source": [
    "# APP.py"
   ]
  },
  {
   "cell_type": "code",
   "execution_count": 15,
   "id": "bdcf91c0",
   "metadata": {
    "ExecuteTime": {
     "end_time": "2023-03-08T15:55:42.431628Z",
     "start_time": "2023-03-08T15:55:04.907880Z"
    }
   },
   "outputs": [
    {
     "name": "stdout",
     "output_type": "stream",
     "text": [
      " * Serving Flask app '__main__'\n",
      " * Debug mode: off\n"
     ]
    },
    {
     "name": "stderr",
     "output_type": "stream",
     "text": [
      "\u001b[31m\u001b[1mWARNING: This is a development server. Do not use it in a production deployment. Use a production WSGI server instead.\u001b[0m\n",
      " * Running on http://127.0.0.1:5000\n",
      "\u001b[33mPress CTRL+C to quit\u001b[0m\n",
      "127.0.0.1 - - [08/Mar/2023 07:55:09] \"\u001b[33mGET / HTTP/1.1\u001b[0m\" 404 -\n",
      "127.0.0.1 - - [08/Mar/2023 07:55:13] \"GET /home HTTP/1.1\" 200 -\n",
      "127.0.0.1 - - [08/Mar/2023 07:55:17] \"\u001b[32mPOST /yes HTTP/1.1\u001b[0m\" 302 -\n",
      "127.0.0.1 - - [08/Mar/2023 07:55:17] \"GET /home HTTP/1.1\" 200 -\n",
      "127.0.0.1 - - [08/Mar/2023 07:55:17] \"\u001b[32mPOST /no HTTP/1.1\u001b[0m\" 302 -\n",
      "127.0.0.1 - - [08/Mar/2023 07:55:17] \"GET /home HTTP/1.1\" 200 -\n",
      "127.0.0.1 - - [08/Mar/2023 07:55:18] \"\u001b[32mPOST /yes HTTP/1.1\u001b[0m\" 302 -\n",
      "127.0.0.1 - - [08/Mar/2023 07:55:18] \"GET /home HTTP/1.1\" 200 -\n",
      "127.0.0.1 - - [08/Mar/2023 07:55:18] \"\u001b[32mPOST /no HTTP/1.1\u001b[0m\" 302 -\n",
      "127.0.0.1 - - [08/Mar/2023 07:55:18] \"GET /home HTTP/1.1\" 200 -\n"
     ]
    }
   ],
   "source": [
    "from flask import Flask, render_template, redirect, url_for\n",
    "import numpy as np\n",
    "\n",
    "\n",
    "app = Flask( __name__ )\n",
    "\n",
    "@app.route( '/home' )\n",
    "def index( ):\n",
    "    if np.random.random() < 0.5:\n",
    "        return render_template( 'pg_layout_blue.html' )\n",
    "\n",
    "    else:\n",
    "        return render_template( 'pg_layout_red.html' )\n",
    "\n",
    "\n",
    "@app.route('/yes', methods=['POST'] )\n",
    "def yes_event():\n",
    "    return redirect( url_for( 'index' ) )\n",
    "\n",
    "@app.route('/no', methods=['POST'] )\n",
    "def no_event():\n",
    "    return redirect( url_for( 'index' ) )\n",
    "\n",
    "\n",
    "if __name__ == '__main__':\n",
    "    app.run()\n",
    "    "
   ]
  },
  {
   "cell_type": "code",
   "execution_count": 26,
   "id": "895e3d81",
   "metadata": {
    "ExecuteTime": {
     "end_time": "2023-03-08T17:20:18.332190Z",
     "start_time": "2023-03-08T17:20:08.666079Z"
    }
   },
   "outputs": [
    {
     "name": "stderr",
     "output_type": "stream",
     "text": [
      "/var/folders/pc/6sglrsq96ws5kp74fjj4j02h0000gn/T/ipykernel_26208/1221530201.py:6: DeprecationWarning: executable_path has been deprecated, please pass in a Service object\n",
      "  driver = webdriver.Chrome( path_webdriver )\n"
     ]
    },
    {
     "ename": "WebDriverException",
     "evalue": "Message: Service /Users/adriele/Documents/repos/ab_testing/notebooks/bayesian_test/chromedriver1 unexpectedly exited. Status code was: -9\n",
     "output_type": "error",
     "traceback": [
      "\u001b[0;31m---------------------------------------------------------------------------\u001b[0m",
      "\u001b[0;31mWebDriverException\u001b[0m                        Traceback (most recent call last)",
      "Input \u001b[0;32mIn [26]\u001b[0m, in \u001b[0;36m<cell line: 6>\u001b[0;34m()\u001b[0m\n\u001b[1;32m      3\u001b[0m \u001b[38;5;28;01mimport\u001b[39;00m \u001b[38;5;21;01mnumpy\u001b[39;00m \u001b[38;5;28;01mas\u001b[39;00m \u001b[38;5;21;01mnp\u001b[39;00m\n\u001b[1;32m      5\u001b[0m path_webdriver \u001b[38;5;241m=\u001b[39m \u001b[38;5;124m'\u001b[39m\u001b[38;5;124m/Users/adriele/Documents/repos/ab_testing/notebooks/bayesian_test/chromedriver1\u001b[39m\u001b[38;5;124m'\u001b[39m\n\u001b[0;32m----> 6\u001b[0m driver \u001b[38;5;241m=\u001b[39m \u001b[43mwebdriver\u001b[49m\u001b[38;5;241;43m.\u001b[39;49m\u001b[43mChrome\u001b[49m\u001b[43m(\u001b[49m\u001b[43m \u001b[49m\u001b[43mpath_webdriver\u001b[49m\u001b[43m \u001b[49m\u001b[43m)\u001b[49m\n\u001b[1;32m      8\u001b[0m driver\u001b[38;5;241m.\u001b[39mget( \u001b[38;5;124m'\u001b[39m\u001b[38;5;124mhttp://127.0.0.1:5000/home\u001b[39m\u001b[38;5;124m'\u001b[39m )\n\u001b[1;32m     10\u001b[0m clicks \u001b[38;5;241m=\u001b[39m \u001b[38;5;241m10000\u001b[39m\n",
      "File \u001b[0;32m~/opt/anaconda3/envs/env_abtesting/lib/python3.9/site-packages/selenium/webdriver/chrome/webdriver.py:80\u001b[0m, in \u001b[0;36mWebDriver.__init__\u001b[0;34m(self, executable_path, port, options, service_args, desired_capabilities, service_log_path, chrome_options, service, keep_alive)\u001b[0m\n\u001b[1;32m     77\u001b[0m \u001b[38;5;28;01mif\u001b[39;00m \u001b[38;5;129;01mnot\u001b[39;00m service:\n\u001b[1;32m     78\u001b[0m     service \u001b[38;5;241m=\u001b[39m Service(executable_path, port, service_args, service_log_path)\n\u001b[0;32m---> 80\u001b[0m \u001b[38;5;28;43msuper\u001b[39;49m\u001b[43m(\u001b[49m\u001b[43m)\u001b[49m\u001b[38;5;241;43m.\u001b[39;49m\u001b[38;5;21;43m__init__\u001b[39;49m\u001b[43m(\u001b[49m\n\u001b[1;32m     81\u001b[0m \u001b[43m    \u001b[49m\u001b[43mDesiredCapabilities\u001b[49m\u001b[38;5;241;43m.\u001b[39;49m\u001b[43mCHROME\u001b[49m\u001b[43m[\u001b[49m\u001b[38;5;124;43m\"\u001b[39;49m\u001b[38;5;124;43mbrowserName\u001b[39;49m\u001b[38;5;124;43m\"\u001b[39;49m\u001b[43m]\u001b[49m\u001b[43m,\u001b[49m\n\u001b[1;32m     82\u001b[0m \u001b[43m    \u001b[49m\u001b[38;5;124;43m\"\u001b[39;49m\u001b[38;5;124;43mgoog\u001b[39;49m\u001b[38;5;124;43m\"\u001b[39;49m\u001b[43m,\u001b[49m\n\u001b[1;32m     83\u001b[0m \u001b[43m    \u001b[49m\u001b[43mport\u001b[49m\u001b[43m,\u001b[49m\n\u001b[1;32m     84\u001b[0m \u001b[43m    \u001b[49m\u001b[43moptions\u001b[49m\u001b[43m,\u001b[49m\n\u001b[1;32m     85\u001b[0m \u001b[43m    \u001b[49m\u001b[43mservice_args\u001b[49m\u001b[43m,\u001b[49m\n\u001b[1;32m     86\u001b[0m \u001b[43m    \u001b[49m\u001b[43mdesired_capabilities\u001b[49m\u001b[43m,\u001b[49m\n\u001b[1;32m     87\u001b[0m \u001b[43m    \u001b[49m\u001b[43mservice_log_path\u001b[49m\u001b[43m,\u001b[49m\n\u001b[1;32m     88\u001b[0m \u001b[43m    \u001b[49m\u001b[43mservice\u001b[49m\u001b[43m,\u001b[49m\n\u001b[1;32m     89\u001b[0m \u001b[43m    \u001b[49m\u001b[43mkeep_alive\u001b[49m\u001b[43m,\u001b[49m\n\u001b[1;32m     90\u001b[0m \u001b[43m\u001b[49m\u001b[43m)\u001b[49m\n",
      "File \u001b[0;32m~/opt/anaconda3/envs/env_abtesting/lib/python3.9/site-packages/selenium/webdriver/chromium/webdriver.py:101\u001b[0m, in \u001b[0;36mChromiumDriver.__init__\u001b[0;34m(self, browser_name, vendor_prefix, port, options, service_args, desired_capabilities, service_log_path, service, keep_alive)\u001b[0m\n\u001b[1;32m     98\u001b[0m     \u001b[38;5;28;01mraise\u001b[39;00m \u001b[38;5;167;01mAttributeError\u001b[39;00m(\u001b[38;5;124m\"\u001b[39m\u001b[38;5;124mservice cannot be None\u001b[39m\u001b[38;5;124m\"\u001b[39m)\n\u001b[1;32m    100\u001b[0m \u001b[38;5;28mself\u001b[39m\u001b[38;5;241m.\u001b[39mservice \u001b[38;5;241m=\u001b[39m service\n\u001b[0;32m--> 101\u001b[0m \u001b[38;5;28;43mself\u001b[39;49m\u001b[38;5;241;43m.\u001b[39;49m\u001b[43mservice\u001b[49m\u001b[38;5;241;43m.\u001b[39;49m\u001b[43mstart\u001b[49m\u001b[43m(\u001b[49m\u001b[43m)\u001b[49m\n\u001b[1;32m    103\u001b[0m \u001b[38;5;28;01mtry\u001b[39;00m:\n\u001b[1;32m    104\u001b[0m     \u001b[38;5;28msuper\u001b[39m()\u001b[38;5;241m.\u001b[39m\u001b[38;5;21m__init__\u001b[39m(\n\u001b[1;32m    105\u001b[0m         command_executor\u001b[38;5;241m=\u001b[39mChromiumRemoteConnection(\n\u001b[1;32m    106\u001b[0m             remote_server_addr\u001b[38;5;241m=\u001b[39m\u001b[38;5;28mself\u001b[39m\u001b[38;5;241m.\u001b[39mservice\u001b[38;5;241m.\u001b[39mservice_url,\n\u001b[0;32m   (...)\u001b[0m\n\u001b[1;32m    112\u001b[0m         options\u001b[38;5;241m=\u001b[39moptions,\n\u001b[1;32m    113\u001b[0m     )\n",
      "File \u001b[0;32m~/opt/anaconda3/envs/env_abtesting/lib/python3.9/site-packages/selenium/webdriver/common/service.py:104\u001b[0m, in \u001b[0;36mService.start\u001b[0;34m(self)\u001b[0m\n\u001b[1;32m    102\u001b[0m count \u001b[38;5;241m=\u001b[39m \u001b[38;5;241m0\u001b[39m\n\u001b[1;32m    103\u001b[0m \u001b[38;5;28;01mwhile\u001b[39;00m \u001b[38;5;28;01mTrue\u001b[39;00m:\n\u001b[0;32m--> 104\u001b[0m     \u001b[38;5;28;43mself\u001b[39;49m\u001b[38;5;241;43m.\u001b[39;49m\u001b[43massert_process_still_running\u001b[49m\u001b[43m(\u001b[49m\u001b[43m)\u001b[49m\n\u001b[1;32m    105\u001b[0m     \u001b[38;5;28;01mif\u001b[39;00m \u001b[38;5;28mself\u001b[39m\u001b[38;5;241m.\u001b[39mis_connectable():\n\u001b[1;32m    106\u001b[0m         \u001b[38;5;28;01mbreak\u001b[39;00m\n",
      "File \u001b[0;32m~/opt/anaconda3/envs/env_abtesting/lib/python3.9/site-packages/selenium/webdriver/common/service.py:117\u001b[0m, in \u001b[0;36mService.assert_process_still_running\u001b[0;34m(self)\u001b[0m\n\u001b[1;32m    115\u001b[0m return_code \u001b[38;5;241m=\u001b[39m \u001b[38;5;28mself\u001b[39m\u001b[38;5;241m.\u001b[39mprocess\u001b[38;5;241m.\u001b[39mpoll()\n\u001b[1;32m    116\u001b[0m \u001b[38;5;28;01mif\u001b[39;00m return_code:\n\u001b[0;32m--> 117\u001b[0m     \u001b[38;5;28;01mraise\u001b[39;00m WebDriverException(\u001b[38;5;124mf\u001b[39m\u001b[38;5;124m\"\u001b[39m\u001b[38;5;124mService \u001b[39m\u001b[38;5;132;01m{\u001b[39;00m\u001b[38;5;28mself\u001b[39m\u001b[38;5;241m.\u001b[39mpath\u001b[38;5;132;01m}\u001b[39;00m\u001b[38;5;124m unexpectedly exited. Status code was: \u001b[39m\u001b[38;5;132;01m{\u001b[39;00mreturn_code\u001b[38;5;132;01m}\u001b[39;00m\u001b[38;5;124m\"\u001b[39m)\n",
      "\u001b[0;31mWebDriverException\u001b[0m: Message: Service /Users/adriele/Documents/repos/ab_testing/notebooks/bayesian_test/chromedriver1 unexpectedly exited. Status code was: -9\n"
     ]
    }
   ],
   "source": [
    "import time\n",
    "from selenium import  webdriver\n",
    "import numpy as np\n",
    "\n",
    "path_webdriver = '/Users/adriele/Documents/repos/ab_testing/notebooks/bayesian_test/chromedriver1'\n",
    "driver = webdriver.Chrome( path_webdriver )\n",
    "\n",
    "driver.get( 'http://127.0.0.1:5000/home' )\n",
    "\n",
    "clicks = 10000\n",
    "\n",
    "for click in range( clicks ):\n",
    "    if np.random.random() < 0.5:\n",
    "        driver.find_element( 'name', 'yescheckbox' ).click()\n",
    "        driver.find_element( 'id', 'yesbtn' ).click()\n",
    "        time.sleep(2)\n",
    "        \n",
    "    else:\n",
    "        driver.find_element( 'name', 'nocheckbox' ).click()\n",
    "        driver.find_element( 'id', 'nobtn' ).click()\n",
    "        time.sleep(2)\n",
    "        "
   ]
  },
  {
   "cell_type": "code",
   "execution_count": null,
   "id": "86bc9093",
   "metadata": {},
   "outputs": [],
   "source": []
  },
  {
   "cell_type": "code",
   "execution_count": null,
   "id": "c8a156d8",
   "metadata": {},
   "outputs": [],
   "source": []
  },
  {
   "cell_type": "code",
   "execution_count": null,
   "id": "b717ea1d",
   "metadata": {},
   "outputs": [],
   "source": []
  },
  {
   "cell_type": "code",
   "execution_count": null,
   "id": "d0911bbb",
   "metadata": {},
   "outputs": [],
   "source": []
  },
  {
   "cell_type": "code",
   "execution_count": null,
   "id": "0e91f632",
   "metadata": {},
   "outputs": [],
   "source": []
  }
 ],
 "metadata": {
  "kernelspec": {
   "display_name": "Python 3 (ipykernel)",
   "language": "python",
   "name": "python3"
  },
  "language_info": {
   "codemirror_mode": {
    "name": "ipython",
    "version": 3
   },
   "file_extension": ".py",
   "mimetype": "text/x-python",
   "name": "python",
   "nbconvert_exporter": "python",
   "pygments_lexer": "ipython3",
   "version": "3.9.12"
  }
 },
 "nbformat": 4,
 "nbformat_minor": 5
}
